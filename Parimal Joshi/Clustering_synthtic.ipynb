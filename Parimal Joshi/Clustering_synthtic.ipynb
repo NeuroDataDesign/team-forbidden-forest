{
 "cells": [
  {
   "cell_type": "code",
   "execution_count": 1,
   "metadata": {},
   "outputs": [],
   "source": [
    "from sklearn.datasets import make_blobs\n",
    "import matplotlib.pyplot as plt\n",
    "from sklearn import datasets\n",
    "from sklearn.cluster import KMeans\n",
    "from sklearn.metrics import adjusted_rand_score\n",
    "\n",
    "from rerf.urerf import UnsupervisedRandomForest"
   ]
  },
  {
   "cell_type": "code",
   "execution_count": 39,
   "metadata": {},
   "outputs": [],
   "source": [
    "data =make_blobs(n_samples=100, \n",
    "                 n_features=5, \n",
    "                 centers=3, \n",
    "                 cluster_std=1.0, \n",
    "                 center_box=(-10.0, 10.0), \n",
    "                 shuffle=True, \n",
    "                 random_state=2)"
   ]
  },
  {
   "cell_type": "code",
   "execution_count": 40,
   "metadata": {},
   "outputs": [],
   "source": [
    "X = data[0]\n",
    "Y = data[1]"
   ]
  },
  {
   "cell_type": "code",
   "execution_count": 41,
   "metadata": {},
   "outputs": [
    {
     "data": {
      "text/plain": [
       "array([[ -3.85776519,  -5.58634992,   2.24664356,  -2.77768224,\n",
       "         -4.56023272],\n",
       "       [ -2.44800221,  -8.4014118 ,  -2.49856474,  -0.02350367,\n",
       "         -2.08185885],\n",
       "       [ -4.89871732,  -6.20197623,   2.34690116,  -4.78355615,\n",
       "         -4.90772863],\n",
       "       [ -4.29518503,  -5.55526194,   1.67372655,  -5.37623417,\n",
       "         -3.61340367],\n",
       "       [  3.70793196,   0.90366028,  -8.58336353,   1.32005276,\n",
       "         -4.58599958],\n",
       "       [ -3.9231864 ,  -7.02793598,   1.80104821,  -4.78149362,\n",
       "         -4.66934481],\n",
       "       [ -3.8903152 ,  -4.96739029,   2.92246674,  -3.10473729,\n",
       "         -4.06769987],\n",
       "       [  1.49770852,   0.02104541,  -7.68567878,   0.99268184,\n",
       "         -7.0419684 ],\n",
       "       [  1.83031684,  -0.14471643,  -5.95740442,   0.93302493,\n",
       "         -4.46092219],\n",
       "       [ -1.946242  , -10.52090393,   1.80912894,  -1.32072065,\n",
       "         -1.61450709],\n",
       "       [  0.74812467,   0.96150058,  -7.95971429,  -0.67482671,\n",
       "         -6.37017949],\n",
       "       [  2.03348283,   1.02484674,  -7.56113163,   1.41721754,\n",
       "         -6.73900803],\n",
       "       [  2.2581527 ,   0.47836793,  -8.58316456,   0.85264158,\n",
       "         -6.14585158],\n",
       "       [  1.63078407,   0.12766499,  -5.53428481,  -0.48474646,\n",
       "         -7.0834381 ],\n",
       "       [  2.25384137,   1.49485379,  -6.72927036,   1.09271498,\n",
       "         -5.28198371],\n",
       "       [  3.35222529,   1.39080101,  -9.03392037,  -2.3643482 ,\n",
       "         -5.33076748],\n",
       "       [  2.65207411,  -0.84813813,  -9.3970166 ,  -0.0374724 ,\n",
       "         -6.79339937],\n",
       "       [ -3.81813299,  -6.56279442,   1.76319121,  -3.06078966,\n",
       "         -3.23470914],\n",
       "       [  3.53434059,  -0.34383052,  -7.42494341,   1.8417488 ,\n",
       "         -5.69810208],\n",
       "       [ -2.92587047,  -6.55856118,   0.83430848,  -4.9875659 ,\n",
       "         -6.59322241],\n",
       "       [ -3.14595026,  -6.38013191,   3.00888592,  -3.66169135,\n",
       "         -5.53765239],\n",
       "       [ -1.02480026,  -9.56139876,   0.73064595,  -1.88381525,\n",
       "         -1.47429271],\n",
       "       [ -2.77337311,  -9.24961658,   1.16213765,  -0.52607639,\n",
       "         -2.86168825],\n",
       "       [ -0.84991379,  -8.8160854 ,   0.14462045,  -1.44919441,\n",
       "         -2.53444432],\n",
       "       [  2.27944749,   0.88326419,  -6.78560299,   0.94982889,\n",
       "         -6.61055706],\n",
       "       [ -3.44051912,  -7.20127251,   2.62470688,  -1.56624715,\n",
       "         -4.34076584],\n",
       "       [ -1.49953834,  -9.7898498 ,   0.53753478,  -3.41807982,\n",
       "         -1.04284572],\n",
       "       [  2.75214601,  -0.01732344,  -6.81447536,  -0.21376071,\n",
       "         -4.74718004],\n",
       "       [ -1.48961468,  -6.80200798,   1.54995493,  -3.3331199 ,\n",
       "         -5.04041309],\n",
       "       [ -0.81080265,  -9.74168765,   1.21633926,  -2.43704411,\n",
       "         -2.19428665],\n",
       "       [ -2.79682487,  -9.44864207,   2.01723144,  -1.12121396,\n",
       "         -0.68796842],\n",
       "       [ -3.00610263,  -6.19097054,   3.36099271,  -3.00073762,\n",
       "         -5.37697973],\n",
       "       [ -0.96766176,  -9.08882092,   1.86739225,  -3.2026221 ,\n",
       "         -1.12293825],\n",
       "       [  2.19999579,   1.84376354,  -8.34008955,  -0.87708314,\n",
       "         -6.89377528],\n",
       "       [  2.56365255,   1.41422677,  -7.18569492,   0.97107932,\n",
       "         -5.64238249],\n",
       "       [ -2.2556475 ,  -5.30246815,   1.08681225,  -3.33737074,\n",
       "         -4.7945481 ],\n",
       "       [ -3.66842139,  -4.98621163,   2.88269051,  -1.62265472,\n",
       "         -4.15731178],\n",
       "       [ -2.84444278,  -5.85549631,   3.77247099,  -1.51171903,\n",
       "         -4.60309209],\n",
       "       [  2.60137741,  -0.44540341,  -9.29384481,  -0.776098  ,\n",
       "         -5.92817215],\n",
       "       [ -2.39835028,  -8.65386031,  -0.51164502,  -1.3621389 ,\n",
       "         -0.99410799],\n",
       "       [ -2.1129399 ,  -9.59748594,   0.29162189,  -2.68294557,\n",
       "         -1.1020484 ],\n",
       "       [ -4.54858037,  -6.5628998 ,   3.85413496,  -1.66739604,\n",
       "         -6.58105114],\n",
       "       [ -3.28640998,  -4.60331984,   1.4838756 ,  -7.08691226,\n",
       "         -5.27600139],\n",
       "       [ -1.63034114, -10.85624289,   1.39625373,  -4.22585824,\n",
       "         -2.18195862],\n",
       "       [  2.90717096,  -0.63918651,  -5.84837689,  -0.02048463,\n",
       "         -6.45657039],\n",
       "       [ -3.98855646,  -7.59891468,   2.18992615,  -3.23913448,\n",
       "         -5.33468124],\n",
       "       [ -4.46334538,  -6.25987972,   3.79662641,  -2.56658656,\n",
       "         -3.75925906],\n",
       "       [ -3.09485026,  -8.29271436,   1.16374407,  -0.62763353,\n",
       "         -2.83739776],\n",
       "       [  3.19411605,   1.89203074,  -9.11827319,  -0.33781722,\n",
       "         -7.30477946],\n",
       "       [ -3.18210285, -11.17019299,  -0.94112379,  -1.0984031 ,\n",
       "         -0.07680305],\n",
       "       [  1.51323836,   2.67459391,  -8.48943528,   1.32687018,\n",
       "         -5.53678759],\n",
       "       [ -3.7811667 ,  -6.46306308,   4.41443743,  -3.94934212,\n",
       "         -5.90237965],\n",
       "       [ -0.80001711,  -9.09448485,   2.20371773,  -1.31368169,\n",
       "         -1.58225001],\n",
       "       [ -1.22116311,  -8.87654076,   0.77302398,  -1.98212795,\n",
       "         -1.88453612],\n",
       "       [ -2.30487369,  -9.03717105,   1.04114381,  -1.63120342,\n",
       "         -2.29279161],\n",
       "       [  4.72945136,   1.62418093,  -6.33318322,   1.02369709,\n",
       "         -4.47162727],\n",
       "       [ -4.45614951,  -6.78240428,   1.836109  ,  -2.08596241,\n",
       "         -5.61722818],\n",
       "       [ -1.24695959,  -9.66421814,  -0.23884838,  -0.32560526,\n",
       "         -0.8674501 ],\n",
       "       [ -3.47226514,  -9.11350149,   1.19240141,  -4.21305062,\n",
       "         -2.75189509],\n",
       "       [ -2.42544001,  -8.8492836 ,   2.80994653,  -2.34494077,\n",
       "         -2.59153373],\n",
       "       [ -5.78888039,  -6.91171868,   1.38160313,  -5.19383244,\n",
       "         -5.35059144],\n",
       "       [ -2.45609152,  -9.20287397,   1.99263481,  -1.2935307 ,\n",
       "         -0.78633588],\n",
       "       [ -2.13152947,  -8.35426091,   0.6092349 ,  -2.0161105 ,\n",
       "         -0.17643097],\n",
       "       [ -1.99466099,  -6.69324999,   2.02211417,  -4.55298065,\n",
       "         -4.62611339],\n",
       "       [ -1.26469543,  -7.94510405,   0.87984678,  -0.98547156,\n",
       "          0.07232611],\n",
       "       [ -0.57276833, -10.30830721,   2.1165763 ,  -0.71844219,\n",
       "         -2.10721796],\n",
       "       [ -0.79060013,  -9.19968529,   1.38009364,  -0.52229234,\n",
       "         -0.95003981],\n",
       "       [  2.05233849,  -0.4235812 ,  -7.38713869,   0.79528643,\n",
       "         -4.15020058],\n",
       "       [  0.35229206, -10.49767365,   1.28803753,  -1.53013443,\n",
       "          0.38616208],\n",
       "       [  2.8132157 ,   2.15236102,  -4.80192621,   0.12617701,\n",
       "         -7.2913031 ],\n",
       "       [ -3.43794069,  -4.41554678,   2.44507638,  -3.86444674,\n",
       "         -3.30784321],\n",
       "       [ -0.85512397,  -8.35938552,   1.33590368,  -2.50743693,\n",
       "          1.3805056 ],\n",
       "       [ -0.70996069, -11.07162038,   0.92972518,  -3.73528595,\n",
       "         -3.38856339],\n",
       "       [  1.95137121,   0.04330183,  -7.44343662,  -0.9048337 ,\n",
       "         -4.87821363],\n",
       "       [ -3.59932545,  -5.68389015,   2.6131867 ,  -3.27921764,\n",
       "         -4.67655034],\n",
       "       [ -2.10615262,  -9.63868363,   1.80395544,   0.97555996,\n",
       "         -0.75165133],\n",
       "       [  1.3494486 ,  -0.21298546,  -7.42697379,   0.79593715,\n",
       "         -6.31281403],\n",
       "       [ -0.98626445, -10.20326574,   0.1022177 ,  -1.9391093 ,\n",
       "         -0.90277511],\n",
       "       [ -3.98567156,  -5.86277694,   0.36631904,  -3.20114464,\n",
       "         -5.37345057],\n",
       "       [ -1.30567864,  -7.42473473,   1.24691655,  -3.90466231,\n",
       "         -4.42440952],\n",
       "       [ -4.64384997,  -4.33192654,   2.04340352,  -2.98803925,\n",
       "         -4.14227418],\n",
       "       [ -0.18743127,  -8.07674336,   1.5330512 ,  -1.8218345 ,\n",
       "         -2.43690469],\n",
       "       [  1.95826835,  -0.93560313,  -7.62121191,  -1.11731922,\n",
       "         -7.4895646 ],\n",
       "       [ -2.38194301,  -6.58731153,   1.28300935,  -3.50915651,\n",
       "         -5.52913077],\n",
       "       [ -2.88175381,  -6.74814082,   3.11896496,  -3.83769386,\n",
       "         -4.14259725],\n",
       "       [  0.43121254,  -0.42101167,  -7.38258005,   0.9639446 ,\n",
       "         -5.90909147],\n",
       "       [  1.65160652,   1.57859732,  -5.9641191 ,  -0.0401944 ,\n",
       "         -6.12761003],\n",
       "       [ -3.02234319,  -6.52870843,   2.59085557,  -5.50569234,\n",
       "         -3.4036128 ],\n",
       "       [ -2.71954674,  -8.57238845,   0.07153295,  -1.99272055,\n",
       "         -1.83464403],\n",
       "       [ -1.40439679,  -9.7390055 ,   2.07057617,  -1.47876957,\n",
       "         -0.42750695],\n",
       "       [ -3.42726567,  -5.02952538,   2.47447108,  -3.47462048,\n",
       "         -4.59344466],\n",
       "       [ -3.83168056,  -4.77321256,   3.4960187 ,  -5.00393665,\n",
       "         -5.22345448],\n",
       "       [ -1.46097653,  -8.67268697,   1.12964258,  -1.28210952,\n",
       "          0.30996721],\n",
       "       [  1.21989959,   2.87101339,  -9.36050577,  -0.21069623,\n",
       "         -4.55224157],\n",
       "       [  1.86417351,  -0.54204531,  -8.42203453,   0.14724125,\n",
       "         -7.21401814],\n",
       "       [  1.44105101,   0.49034232,  -6.96007778,  -0.26320935,\n",
       "         -7.71564937],\n",
       "       [  2.78207989,  -0.33607166,  -8.13810409,  -1.55926748,\n",
       "         -6.84756101],\n",
       "       [ -2.30409792,  -6.12178174,   3.16352526,  -3.66273137,\n",
       "         -3.52622582],\n",
       "       [  3.45425339,   1.93138176,  -7.71309412,  -0.28971315,\n",
       "         -6.30688763],\n",
       "       [  2.08733105,  -0.36348473,  -7.39580417,  -1.5717497 ,\n",
       "         -6.53723734]])"
      ]
     },
     "execution_count": 41,
     "metadata": {},
     "output_type": "execute_result"
    }
   ],
   "source": [
    "X"
   ]
  },
  {
   "cell_type": "code",
   "execution_count": 42,
   "metadata": {},
   "outputs": [],
   "source": [
    "clf = UnsupervisedRandomForest(projection_matrix=\"RerF\", random_state=0)"
   ]
  },
  {
   "cell_type": "code",
   "execution_count": 43,
   "metadata": {},
   "outputs": [
    {
     "data": {
      "text/plain": [
       "<matplotlib.image.AxesImage at 0x7f55350c4908>"
      ]
     },
     "execution_count": 43,
     "metadata": {},
     "output_type": "execute_result"
    },
    {
     "data": {
      "image/png": "[encoded data removed]",
      "text/plain": [
       "<Figure size 432x288 with 1 Axes>"
      ]
     },
     "metadata": {
      "needs_background": "light"
     },
     "output_type": "display_data"
    }
   ],
   "source": [
    "clf.fit(X)\n",
    "sim_mat = clf.transform()\n",
    "plt.imshow(sim_mat)"
   ]
  },
  {
   "cell_type": "code",
   "execution_count": 44,
   "metadata": {},
   "outputs": [],
   "source": [
    "R = []\n",
    "I = []\n",
    "for i in range(1,11):\n",
    "    I.append(i)\n",
    "    cluster = KMeans(n_clusters= i)\n",
    "    predict_labels = cluster.fit_predict(sim_mat)\n",
    "    score = adjusted_rand_score(Y, predict_labels)\n",
    "    R.append(score)\n",
    "\n",
    "    #print(\"labels\\n\", Y)\n",
    "    #print(\"predict\\n\", predict_labels)\n",
    "    #print(\"Adjusted Rand Score:\", score)\n",
    "    "
   ]
  },
  {
   "cell_type": "code",
   "execution_count": 45,
   "metadata": {},
   "outputs": [
    {
     "data": {
      "text/plain": [
       "2"
      ]
     },
     "execution_count": 45,
     "metadata": {},
     "output_type": "execute_result"
    },
    {
     "data": {
      "image/png": "[encoded data removed]",
      "text/plain": [
       "<Figure size 432x288 with 1 Axes>"
      ]
     },
     "metadata": {
      "needs_background": "light"
     },
     "output_type": "display_data"
    }
   ],
   "source": [
    "plt.plot(I,R)\n",
    "max_R = max(R)\n",
    "max_I = I[int(max_R)]\n",
    "max_I\n"
   ]
  },
  {
   "cell_type": "code",
   "execution_count": 59,
   "metadata": {},
   "outputs": [
    {
     "data": {
      "text/plain": [
       "2"
      ]
     },
     "execution_count": 59,
     "metadata": {},
     "output_type": "execute_result"
    },
    {
     "data": {
      "image/png": "[encoded data removed]",
      "text/plain": [
       "<Figure size 432x288 with 1 Axes>"
      ]
     },
     "metadata": {
      "needs_background": "light"
     },
     "output_type": "display_data"
    }
   ],
   "source": [
    "from sklearn.cluster import AgglomerativeClustering\n",
    "\n",
    "data = make_blobs(n_samples=100, \n",
    "                 n_features=5, \n",
    "                 centers=3, \n",
    "                 cluster_std=1.0, \n",
    "                 center_box=(-10.0, 10.0), \n",
    "                 shuffle=True, \n",
    "                 random_state=2)\n",
    "\n",
    "X = data[0]\n",
    "Y = data[1]\n",
    "\n",
    "clf = UnsupervisedRandomForest(projection_matrix=\"RerF\", random_state=0)\n",
    "\n",
    "clf.fit(X)\n",
    "sim_mat = clf.transform()\n",
    "#plt.imshow(sim_mat)\n",
    "\n",
    "K = []\n",
    "O = []\n",
    "for i in range (1,11):\n",
    "    O.append(i)\n",
    "    cluster = AgglomerativeClustering(n_clusters=i, \n",
    "                                      memory=None, \n",
    "                                      connectivity=None)\n",
    "    predict_labels = cluster.fit_predict(sim_mat)\n",
    "    score = adjusted_rand_score(Y, predict_labels)\n",
    "    K.append(score)\n",
    "\n",
    "plt.plot(O,K)\n",
    "max_R = max(R)\n",
    "max_I = I[int(max_R)]\n",
    "max_I"
   ]
  },
  {
   "cell_type": "code",
   "execution_count": 68,
   "metadata": {},
   "outputs": [
    {
     "name": "stderr",
     "output_type": "stream",
     "text": [
      "/home/da_pj/anaconda3/lib/python3.7/site-packages/sklearn/cluster/affinity_propagation_.py:224: ConvergenceWarning: Affinity propagation did not converge, this model will not have any cluster centers.\n",
      "  \"will not have any cluster centers.\", ConvergenceWarning)\n",
      "/home/da_pj/anaconda3/lib/python3.7/site-packages/sklearn/cluster/affinity_propagation_.py:224: ConvergenceWarning: Affinity propagation did not converge, this model will not have any cluster centers.\n",
      "  \"will not have any cluster centers.\", ConvergenceWarning)\n"
     ]
    },
    {
     "name": "stdout",
     "output_type": "stream",
     "text": [
      "Adjusted Rand Score: 0.0\n"
     ]
    },
    {
     "name": "stderr",
     "output_type": "stream",
     "text": [
      "/home/da_pj/anaconda3/lib/python3.7/site-packages/sklearn/cluster/affinity_propagation_.py:224: ConvergenceWarning: Affinity propagation did not converge, this model will not have any cluster centers.\n",
      "  \"will not have any cluster centers.\", ConvergenceWarning)\n"
     ]
    },
    {
     "data": {
      "image/png": "[encoded data removed]",
      "text/plain": [
       "<Figure size 432x288 with 1 Axes>"
      ]
     },
     "metadata": {
      "needs_background": "light"
     },
     "output_type": "display_data"
    }
   ],
   "source": [
    "from sklearn.cluster import AffinityPropagation\n",
    "\n",
    "data = make_blobs(n_samples=100, \n",
    "                 n_features=5, \n",
    "                 centers=3, \n",
    "                 cluster_std=1.0, \n",
    "                 center_box=(-10.0, 10.0), \n",
    "                 shuffle=True, \n",
    "                 random_state=2)\n",
    "\n",
    "X = data[0]\n",
    "Y = data[1]\n",
    "\n",
    "clf = UnsupervisedRandomForest(projection_matrix=\"RerF\", random_state=0)\n",
    "\n",
    "clf.fit(X)\n",
    "sim_mat = clf.transform()\n",
    "#plt.imshow(sim_mat)\n",
    "\n",
    "R = []\n",
    "I = []\n",
    "for i in range(-1,-50,-1):\n",
    "    I.append(i)\n",
    "    cluster = AffinityPropagation(preference= i)\n",
    "    predict_labels = cluster.fit_predict(sim_mat)\n",
    "    score = adjusted_rand_score(Y, predict_labels)\n",
    "    R.append(score)\n",
    "\n",
    "plt.plot(I,R)\n",
    "#print(\"labels\\n\", iris.target)\n",
    "#print(\"predict\\n\", predict_labels)\n",
    "print(\"Adjusted Rand Score:\", score)"
   ]
  },
  {
   "cell_type": "code",
   "execution_count": 70,
   "metadata": {},
   "outputs": [
    {
     "name": "stderr",
     "output_type": "stream",
     "text": [
      "/home/da_pj/anaconda3/lib/python3.7/site-packages/sklearn/cluster/spectral.py:462: UserWarning: The spectral clustering API has changed. ``fit``now constructs an affinity matrix from data. To use a custom affinity matrix, set ``affinity=precomputed``.\n",
      "  warnings.warn(\"The spectral clustering API has changed. ``fit``\"\n",
      "/home/da_pj/anaconda3/lib/python3.7/site-packages/sklearn/cluster/spectral.py:462: UserWarning: The spectral clustering API has changed. ``fit``now constructs an affinity matrix from data. To use a custom affinity matrix, set ``affinity=precomputed``.\n",
      "  warnings.warn(\"The spectral clustering API has changed. ``fit``\"\n",
      "/home/da_pj/anaconda3/lib/python3.7/site-packages/sklearn/cluster/spectral.py:462: UserWarning: The spectral clustering API has changed. ``fit``now constructs an affinity matrix from data. To use a custom affinity matrix, set ``affinity=precomputed``.\n",
      "  warnings.warn(\"The spectral clustering API has changed. ``fit``\"\n",
      "/home/da_pj/anaconda3/lib/python3.7/site-packages/sklearn/cluster/spectral.py:462: UserWarning: The spectral clustering API has changed. ``fit``now constructs an affinity matrix from data. To use a custom affinity matrix, set ``affinity=precomputed``.\n",
      "  warnings.warn(\"The spectral clustering API has changed. ``fit``\"\n",
      "/home/da_pj/anaconda3/lib/python3.7/site-packages/sklearn/cluster/spectral.py:462: UserWarning: The spectral clustering API has changed. ``fit``now constructs an affinity matrix from data. To use a custom affinity matrix, set ``affinity=precomputed``.\n",
      "  warnings.warn(\"The spectral clustering API has changed. ``fit``\"\n",
      "/home/da_pj/anaconda3/lib/python3.7/site-packages/sklearn/cluster/spectral.py:462: UserWarning: The spectral clustering API has changed. ``fit``now constructs an affinity matrix from data. To use a custom affinity matrix, set ``affinity=precomputed``.\n",
      "  warnings.warn(\"The spectral clustering API has changed. ``fit``\"\n",
      "/home/da_pj/anaconda3/lib/python3.7/site-packages/sklearn/cluster/spectral.py:462: UserWarning: The spectral clustering API has changed. ``fit``now constructs an affinity matrix from data. To use a custom affinity matrix, set ``affinity=precomputed``.\n",
      "  warnings.warn(\"The spectral clustering API has changed. ``fit``\"\n",
      "/home/da_pj/anaconda3/lib/python3.7/site-packages/sklearn/cluster/spectral.py:462: UserWarning: The spectral clustering API has changed. ``fit``now constructs an affinity matrix from data. To use a custom affinity matrix, set ``affinity=precomputed``.\n",
      "  warnings.warn(\"The spectral clustering API has changed. ``fit``\"\n",
      "/home/da_pj/anaconda3/lib/python3.7/site-packages/sklearn/cluster/spectral.py:462: UserWarning: The spectral clustering API has changed. ``fit``now constructs an affinity matrix from data. To use a custom affinity matrix, set ``affinity=precomputed``.\n",
      "  warnings.warn(\"The spectral clustering API has changed. ``fit``\"\n",
      "/home/da_pj/anaconda3/lib/python3.7/site-packages/sklearn/cluster/spectral.py:462: UserWarning: The spectral clustering API has changed. ``fit``now constructs an affinity matrix from data. To use a custom affinity matrix, set ``affinity=precomputed``.\n",
      "  warnings.warn(\"The spectral clustering API has changed. ``fit``\"\n"
     ]
    },
    {
     "name": "stdout",
     "output_type": "stream",
     "text": [
      "Adjusted Rand Score: 0.382197473774989\n"
     ]
    },
    {
     "data": {
      "image/png": "[encoded data removed]",
      "text/plain": [
       "<Figure size 432x288 with 1 Axes>"
      ]
     },
     "metadata": {
      "needs_background": "light"
     },
     "output_type": "display_data"
    }
   ],
   "source": [
    "from sklearn.cluster import SpectralClustering\n",
    "\n",
    "data = make_blobs(n_samples=100, \n",
    "                 n_features=5, \n",
    "                 centers=3, \n",
    "                 cluster_std=1.0, \n",
    "                 center_box=(-10.0, 10.0), \n",
    "                 shuffle=True, \n",
    "                 random_state=2)\n",
    "\n",
    "X = data[0]\n",
    "Y = data[1]\n",
    "\n",
    "clf = UnsupervisedRandomForest(projection_matrix=\"RerF\", random_state=0)\n",
    "\n",
    "clf.fit(X)\n",
    "sim_mat = clf.transform()\n",
    "#plt.imshow(sim_mat)\n",
    "\n",
    "R = []\n",
    "I = []\n",
    "for i in range(1,11):\n",
    "    I.append(i)\n",
    "    cluster = SpectralClustering(n_clusters = i, \n",
    "                                  eigen_solver=None, \n",
    "                                  random_state=None, \n",
    "                                  n_init=10, gamma=1.0, \n",
    "                                  n_neighbors=10, \n",
    "                                  eigen_tol=0.0, \n",
    "                                  degree=3, coef0=1, kernel_params=None, n_jobs=None)\n",
    "    predict_labels = cluster.fit_predict(sim_mat)\n",
    "    score = adjusted_rand_score(Y, predict_labels)\n",
    "    R.append(score)\n",
    "\n",
    "plt.plot(I,R)\n",
    "print(\"Adjusted Rand Score:\", score)"
   ]
  },
  {
   "cell_type": "code",
   "execution_count": null,
   "metadata": {},
   "outputs": [],
   "source": []
  }
 ],
 "metadata": {
  "kernelspec": {
   "display_name": "Python 3",
   "language": "python",
   "name": "python3"
  },
  "language_info": {
   "codemirror_mode": {
    "name": "ipython",
    "version": 3
   },
   "file_extension": ".py",
   "mimetype": "text/x-python",
   "name": "python",
   "nbconvert_exporter": "python",
   "pygments_lexer": "ipython3",
   "version": "3.7.3"
  }
 },
 "nbformat": 4,
 "nbformat_minor": 2
}
