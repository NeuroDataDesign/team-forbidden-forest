{
 "cells": [
  {
   "cell_type": "code",
   "execution_count": 15,
   "metadata": {},
   "outputs": [
    {
     "name": "stdout",
     "output_type": "stream",
     "text": [
      "[[1.    0.076 0.077 ... 0.    0.    0.   ]\n",
      " [0.082 1.    0.191 ... 0.002 0.    0.002]\n",
      " [0.072 0.171 1.    ... 0.    0.    0.   ]\n",
      " ...\n",
      " [0.    0.003 0.    ... 1.    0.061 0.11 ]\n",
      " [0.    0.    0.    ... 0.055 1.    0.016]\n",
      " [0.    0.004 0.    ... 0.123 0.023 1.   ]]\n"
     ]
    },
    {
     "data": {
      "text/html": [
       "<div>\n",
       "<style scoped>\n",
       "    .dataframe tbody tr th:only-of-type {\n",
       "        vertical-align: middle;\n",
       "    }\n",
       "\n",
       "    .dataframe tbody tr th {\n",
       "        vertical-align: top;\n",
       "    }\n",
       "\n",
       "    .dataframe thead th {\n",
       "        text-align: right;\n",
       "    }\n",
       "</style>\n",
       "<table border=\"1\" class=\"dataframe\">\n",
       "  <thead>\n",
       "    <tr style=\"text-align: right;\">\n",
       "      <th></th>\n",
       "      <th>SVD1</th>\n",
       "      <th>SVD2</th>\n",
       "    </tr>\n",
       "  </thead>\n",
       "  <tbody>\n",
       "    <tr>\n",
       "      <th>0</th>\n",
       "      <td>-0.175210</td>\n",
       "      <td>0.020759</td>\n",
       "    </tr>\n",
       "    <tr>\n",
       "      <th>1</th>\n",
       "      <td>-0.182214</td>\n",
       "      <td>0.018173</td>\n",
       "    </tr>\n",
       "    <tr>\n",
       "      <th>2</th>\n",
       "      <td>-0.170395</td>\n",
       "      <td>0.019164</td>\n",
       "    </tr>\n",
       "    <tr>\n",
       "      <th>3</th>\n",
       "      <td>-0.169917</td>\n",
       "      <td>0.018260</td>\n",
       "    </tr>\n",
       "    <tr>\n",
       "      <th>4</th>\n",
       "      <td>-0.165230</td>\n",
       "      <td>0.019415</td>\n",
       "    </tr>\n",
       "  </tbody>\n",
       "</table>\n",
       "</div>"
      ],
      "text/plain": [
       "       SVD1      SVD2\n",
       "0 -0.175210  0.020759\n",
       "1 -0.182214  0.018173\n",
       "2 -0.170395  0.019164\n",
       "3 -0.169917  0.018260\n",
       "4 -0.165230  0.019415"
      ]
     },
     "execution_count": 15,
     "metadata": {},
     "output_type": "execute_result"
    }
   ],
   "source": [
    "from numpy import *\n",
    "import operator\n",
    "import matplotlib.pyplot as plt\n",
    "import pandas as pd\n",
    "from numpy.linalg import *\n",
    "from rerf.urerf import UnsupervisedRandomForest\n",
    "from sklearn.preprocessing import StandardScaler\n",
    "\n",
    "url = \"https://archive.ics.uci.edu/ml/machine-learning-databases/iris/iris.data\"\n",
    "# load dataset into Pandas DataFrame\n",
    "df = pd.read_csv(url, names=['sepal length','sepal width','petal length','petal width','target'])\n",
    "# Only the X variables\n",
    "data = df[['sepal length','sepal width','petal length','petal width']]\n",
    "\n",
    "features = ['sepal length', 'sepal width', 'petal length', 'petal width']\n",
    "\n",
    "#applying USPORF\n",
    "# Separating out the features\n",
    "x = df.loc[:, features].values\n",
    "# Separating out the target\n",
    "y = df.loc[:,['target']].values\n",
    "\n",
    "clf = UnsupervisedRandomForest(feature_combinations='auto', max_depth=None,\n",
    "                         max_features='auto', min_samples_split='auto',\n",
    "                         n_estimators=1000, n_jobs=None,\n",
    "                         projection_matrix='RerF', random_state=0)\n",
    "\n",
    "clf.fit(x)\n",
    "sim_mat = clf.transform()\n",
    "print(sim_mat)\n",
    "#plt.imshow(sim_mat)\n",
    "\n",
    "#calculate SVD\n",
    "n = 2 # We will take two Singular Values\n",
    "U, s, V = linalg.svd(sim_mat)\n",
    "# eye() creates a matrix with ones on the diagonal and zeros elsewhere\n",
    "Sig = mat(eye(n)*s[:n])\n",
    "newdata = U[:,:n]\n",
    "newdata = pd.DataFrame(newdata)\n",
    "newdata.columns=['SVD1','SVD2']\n",
    "newdata.head()"
   ]
  },
  {
   "cell_type": "code",
   "execution_count": 16,
   "metadata": {},
   "outputs": [
    {
     "data": {
      "image/png": "[encoded data removed]",
      "text/plain": [
       "<Figure size 432x288 with 1 Axes>"
      ]
     },
     "metadata": {
      "needs_background": "light"
     },
     "output_type": "display_data"
    }
   ],
   "source": [
    "newdata['target']=df['target']\n",
    "\n",
    "fig = plt.figure()\n",
    "ax = fig.add_subplot(1,1,1) \n",
    "ax.set_xlabel('SVD 1') \n",
    "ax.set_ylabel('SVD 2') \n",
    "ax.set_title('SVD') \n",
    "targets = ['Iris-setosa', 'Iris-versicolor', 'Iris-virginica']\n",
    "colors = ['r', 'g', 'b']\n",
    "for target, color in zip(targets,colors):\n",
    " indicesToKeep = newdata['target'] == target\n",
    " ax.scatter(newdata.loc[indicesToKeep, 'SVD1']\n",
    " , newdata.loc[indicesToKeep, 'SVD2']\n",
    " , c = color\n",
    " , s = 50)\n",
    "ax.legend(targets)\n",
    "ax.grid()"
   ]
  },
  {
   "cell_type": "code",
   "execution_count": null,
   "metadata": {},
   "outputs": [],
   "source": []
  }
 ],
 "metadata": {
  "kernelspec": {
   "display_name": "Python 3",
   "language": "python",
   "name": "python3"
  },
  "language_info": {
   "codemirror_mode": {
    "name": "ipython",
    "version": 3
   },
   "file_extension": ".py",
   "mimetype": "text/x-python",
   "name": "python",
   "nbconvert_exporter": "python",
   "pygments_lexer": "ipython3",
   "version": "3.7.3"
  }
 },
 "nbformat": 4,
 "nbformat_minor": 2
}
