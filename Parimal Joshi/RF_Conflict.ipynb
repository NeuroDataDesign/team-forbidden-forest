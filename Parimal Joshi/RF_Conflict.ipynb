{
 "cells": [
  {
   "cell_type": "code",
   "execution_count": 173,
   "metadata": {},
   "outputs": [],
   "source": [
    "import numpy as np\n",
    "import matplotlib.pyplot as plt\n",
    "from matplotlib.colors import ListedColormap\n",
    "from sklearn.model_selection import train_test_split\n",
    "from sklearn.preprocessing import StandardScaler\n",
    "from sklearn.datasets import make_moons, make_circles, make_classification\n",
    "from sklearn.neural_network import MLPClassifier\n",
    "from sklearn.neighbors import KNeighborsClassifier\n",
    "from sklearn.svm import SVC\n",
    "from sklearn.gaussian_process import GaussianProcessClassifier\n",
    "from sklearn.gaussian_process.kernels import RBF\n",
    "from sklearn.tree import DecisionTreeClassifier\n",
    "from sklearn.ensemble import RandomForestClassifier, AdaBoostClassifier\n",
    "from sklearn.naive_bayes import GaussianNB\n",
    "from sklearn.discriminant_analysis import QuadraticDiscriminantAnalysis\n",
    "from sklearn.datasets import make_blobs\n",
    "from sklearn.pipeline import make_pipeline\n",
    "from sklearn.decomposition import TruncatedSVD\n",
    "from sklearn.decomposition import PCA\n",
    "from sklearn.discriminant_analysis import LinearDiscriminantAnalysis\n",
    "import pandas as pd\n",
    "import seaborn as sns"
   ]
  },
  {
   "cell_type": "code",
   "execution_count": 180,
   "metadata": {},
   "outputs": [],
   "source": [
    "datasets = make_moons(n_samples=100, shuffle=True, random_state=None)\n",
    "i = 1\n",
    "df = pd.DataFrame(datasets[0],columns=['x'+str(i) for i in range(1,3)])  \n",
    "\n",
    "noise1 = np.random.normal(0,1,[100, 100])    \n",
    "df_noise = (pd.DataFrame(noise1, columns=['dim'+ str(i) for i in range(1,100+1)]))\n",
    "dataset_main = pd.concat([df, df_noise],axis = 1)\n",
    "dataset_main['y'] = datasets[1]\n",
    "\n",
    "classifiers = [\n",
    "    KNeighborsClassifier(5),\n",
    "    RandomForestClassifier(n_estimators=100, bootstrap = True ,max_features = 'sqrt'),\n",
    "    SVC(kernel=\"linear\", C=0.025)]\n",
    "\n",
    "classifiers_dim = [\n",
    "    make_pipeline(PCA(n_components=j), KNeighborsClassifier(n_neighbors=5)),\n",
    "    make_pipeline(PCA(n_components=j), RandomForestClassifier(n_estimators=100, bootstrap = True ,max_features = 'sqrt')),\n",
    "    make_pipeline(PCA(n_components=j), SVC(kernel=\"linear\", C=0.025)),]\n",
    "\n",
    "names = [\"KNN\",\"Random Forest\", \"svm\"]"
   ]
  },
  {
   "cell_type": "code",
   "execution_count": 183,
   "metadata": {},
   "outputs": [],
   "source": [
    "sim = 100\n",
    "sim_acc = []\n",
    "dim_knn = []\n",
    "score_knn = []\n",
    "dim_rf = []\n",
    "score_rf = []\n",
    "dim_svm = []\n",
    "score_svm = []\n",
    "score_withoutdr = []\n",
    "dim_withoutdr = []\n",
    "i= 1\n",
    "for i in range (sim):\n",
    "    score_without = []\n",
    "    X = dataset_main.iloc[:, :-1].values\n",
    "    Y = dataset_main['y']\n",
    "    X = StandardScaler().fit_transform(X)\n",
    "    X_train, X_test, y_train, y_test = train_test_split(X, Y, test_size=.4, random_state=42)\n",
    "    \n",
    "    for name, clf in zip(names, classifiers):\n",
    "        score_a.fit(X_train, y_train)\n",
    "        score_dim = score_a.score(X_test, y_test)\n",
    "        score_without.append(score_dim)\n",
    "        Xaxis = []\n",
    "        for j in range (60, 2, -10):\n",
    "            Xaxis.append(j)\n",
    "    score_withoutdr = np.concatenate((score_withoutdr,score_without), axis = None)\n",
    "    dim_withoutdr = np.concatenate((dim_withoutdr,Xaxis), axis = None)\n",
    "\n",
    "    dim_rep = []\n",
    "    score_rep = []\n",
    "    Final_dim = []\n",
    "    dim = []\n",
    "    j = 1\n",
    "    for name, clf in zip(names, classifiers_dim):\n",
    "        for j in range (60, 2, -10):\n",
    "            score_a.fit(X_train, y_train)\n",
    "            score_dim = score_a.score(X_test, y_test)\n",
    "            dim_rep.append(j)\n",
    "            score_rep.append(score_dim)\n",
    "    dim_knn = np.concatenate((dim_knn,dim_rep[0:6]), axis = None)\n",
    "    score_knn = np.concatenate((score_knn,score_rep[0:6]), axis = None)\n",
    "    dim_rf = np.concatenate((dim_rf,dim_rep[6:12]), axis = None)\n",
    "    score_rf = np.concatenate((score_rf,score_rep[6:12]), axis = None)\n",
    "    dim_svm = np.concatenate((dim_svm,dim_rep[12:18]), axis = None)\n",
    "    score_svm = np.concatenate((score_svm,score_rep[12:18]), axis = None)"
   ]
  },
  {
   "cell_type": "code",
   "execution_count": 184,
   "metadata": {},
   "outputs": [
    {
     "data": {
      "text/plain": [
       "<matplotlib.axes._subplots.AxesSubplot at 0x7f76f042d358>"
      ]
     },
     "execution_count": 184,
     "metadata": {},
     "output_type": "execute_result"
    },
    {
     "data": {
      "image/png": "[encoded data removed]",
      "text/plain": [
       "<Figure size 432x288 with 1 Axes>"
      ]
     },
     "metadata": {
      "needs_background": "light"
     },
     "output_type": "display_data"
    }
   ],
   "source": [
    "event=[]\n",
    "for i in range(0,len(dim_knn)):\n",
    "    event.append('KNN')\n",
    "for j in range(0,len(dim_rf)):\n",
    "    event.append('RF')\n",
    "for k in range(0,len(dim_svm)):\n",
    "    event.append('SVM')\n",
    "    \n",
    "dims=np.concatenate((dim_knn,dim_rf,dim_svm))\n",
    "scores=np.concatenate((score_knn,score_rf,score_svm))\n",
    "\n",
    "data={'Number of Noise Dimensions':dims,'Acc':scores,'Event':event}\n",
    "sns.lineplot(x='Number of Noise Dimensions',y='Acc',hue='Event',data=data) "
   ]
  },
  {
   "cell_type": "code",
   "execution_count": null,
   "metadata": {},
   "outputs": [],
   "source": []
  }
 ],
 "metadata": {
  "kernelspec": {
   "display_name": "Python 3",
   "language": "python",
   "name": "python3"
  },
  "language_info": {
   "codemirror_mode": {
    "name": "ipython",
    "version": 3
   },
   "file_extension": ".py",
   "mimetype": "text/x-python",
   "name": "python",
   "nbconvert_exporter": "python",
   "pygments_lexer": "ipython3",
   "version": "3.7.3"
  }
 },
 "nbformat": 4,
 "nbformat_minor": 2
}
