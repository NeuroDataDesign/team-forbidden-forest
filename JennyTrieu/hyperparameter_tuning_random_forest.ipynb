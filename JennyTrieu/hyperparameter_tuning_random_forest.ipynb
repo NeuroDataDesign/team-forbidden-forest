{
 "cells": [
  {
   "cell_type": "markdown",
   "metadata": {},
   "source": [
    "# Parameter Tuning Tutorial    \n",
    "\n",
    "<b> Objective:</b> \n",
    "This tutorial covers how to perform hyperparameter tuning on a random forest model using sklearn's GridSearchCV and RandomSearchCV. \n",
    "\n",
    " **Brief Overview of Random Forests from** [TowardDataScience](https://towardsdatascience.com/an-implementation-and-explanation-of-the-random-forest-in-python-77bf308a9b76): Click on hyperlink to learn more.\n",
    "> A random forest is a model made up of many decision trees. Rather than just simply averaging the prediction of trees (which we could call a “forest”), this model uses two key concepts that gives it the name random:\n",
    "1. Random sampling of training data points when building trees\n",
    "2. Random subsets of features considered when splitting nodes\n",
    "\n",
    "**The Dataset**\n",
    "The random forest model will be trained to recognize handwritten digits from the MNIST database. Each greyscale image is 28 x 28, representing the digits 0-9, and consists of 60,000 training images and 10,000 test images. To reduce computational time, this tutorial uses only a subset of the full dataset (10,000 train images and 1,000 test images). Assuming a Gaussian distribution for the MNIST dataset, the dataset is also standardized such that each feature has a mean of 0 and a standard deviation of 1.\n",
    "\n",
    "# Hyperparameter Tuning Methods\n",
    "\n",
    "  The base random forest model which will be tuned is initialized with 500 estimators and a random state of 42. Using five-fold cross validation, this base model has an mean accuracy score of 0.89 with a standard deviation of 0.02.  \n",
    "  \n",
    "**GridSearchCV**\n",
    "\n",
    "This function allows you to run an exhaustive search on all of the possible parameters and parameter combinations as inputs to the Random Forest model and returns the parameters that gives the best performance. \n",
    "\n",
    "**RandomizedSearchCV**\n",
    "\n",
    "Instead of trying out an exhaustive list of parameters and parameter combinations like GridSearchCV, only a fixed number of parameter combinations is sampled from the full sample space containing all possible combinations of parameter settings. The number of parameter settings that are tried is given by n_iter. \n"
   ]
  },
  {
   "cell_type": "markdown",
   "metadata": {},
   "source": [
    "# Code \n"
   ]
  },
  {
   "cell_type": "code",
   "execution_count": 1,
   "metadata": {},
   "outputs": [
    {
     "name": "stdout",
     "output_type": "stream",
     "text": [
      "(70000, 784)\n"
     ]
    }
   ],
   "source": [
    "from sklearn.datasets import fetch_openml\n",
    "# Load data from https://www.openml.org/d/554\n",
    "import matplotlib.pyplot as plt\n",
    "import numpy as np\n",
    "import pandas as pd\n",
    "\n",
    "# Load the dataset\n",
    "images, labels = fetch_openml('mnist_784', version=1, return_X_y=True)\n",
    "\n",
    "# Check dimensions of the data\n",
    "print(images.shape)\n",
    "\n",
    "# Pick the fifth image from the dataset (it's a 9)\n",
    "i = 4\n",
    "image, label = images[i], labels[i]\n",
    "\n",
    "# Splitting the data into training and testing samples\n",
    "from sklearn.model_selection import train_test_split\n",
    "images_train, images_test, labels_train, labels_test = train_test_split(images, labels, train_size = 10000,\n",
    "                                                                        test_size = 1000, random_state = 42)\n",
    "\n",
    "# Feature Scaling\n",
    "from sklearn.preprocessing import StandardScaler\n",
    "scaler = StandardScaler()\n",
    "images_train = scaler.fit_transform(images_train)\n",
    "images_test = scaler.transform(images_test)"
   ]
  },
  {
   "cell_type": "code",
   "execution_count": 20,
   "metadata": {},
   "outputs": [
    {
     "name": "stdout",
     "output_type": "stream",
     "text": [
      "RandomForestClassifier(bootstrap=True, class_weight=None, criterion='gini',\n",
      "                       max_depth=None, max_features='auto', max_leaf_nodes=None,\n",
      "                       min_impurity_decrease=0.0, min_impurity_split=None,\n",
      "                       min_samples_leaf=1, min_samples_split=2,\n",
      "                       min_weight_fraction_leaf=0.0, n_estimators=500,\n",
      "                       n_jobs=None, oob_score=False, random_state=42, verbose=0,\n",
      "                       warm_start=False)\n",
      "Accuracy:  0.954\n",
      "[0.91133005 0.89108911 0.90049751 0.89393939 0.87755102]\n",
      "Cross-Validation (CV=5) Accuracy: 0.89 (+/- 0.02)\n",
      "CPU times: user 25.3 s, sys: 258 ms, total: 25.6 s\n",
      "Wall time: 25.7 s\n"
     ]
    }
   ],
   "source": [
    "# Set up a random forest classifier with 500 trees, leaving other parameters as default parameters.\n",
    "%%time\n",
    "from sklearn.ensemble import RandomForestClassifier\n",
    "from sklearn.metrics import accuracy_score\n",
    "from sklearn.model_selection import cross_val_score\n",
    "\n",
    "# Set up classifier and train classifer\n",
    "clf = RandomForestClassifier(n_estimators=500, random_state = 42)\n",
    "print(clf)\n",
    "clf.fit(images_train, labels_train)\n",
    "\n",
    "# Test classifier\n",
    "predicted_labels = clf.predict(images_test)\n",
    "\n",
    "# Evaluate classifier\n",
    "print(\"Accuracy: \", accuracy_score(labels_test, predicted_labels))\n",
    "\n",
    "# Using cross validation to evaluate performance. Compute mean score and 95% interval of score estimate\n",
    "scores = cross_val_score(clf, images_test, labels_test, cv=5, scoring='accuracy')\n",
    "print(scores)\n",
    "print(\"Cross-Validation (CV=5) Accuracy: %0.2f (+/- %0.2f)\" % (scores.mean(), scores.std() * 2))"
   ]
  },
  {
   "cell_type": "code",
   "execution_count": 97,
   "metadata": {},
   "outputs": [
    {
     "name": "stdout",
     "output_type": "stream",
     "text": [
      "CPU times: user 5h 13min 13s, sys: 2min 44s, total: 5h 15min 57s\n",
      "Wall time: 34min 31s\n"
     ]
    }
   ],
   "source": [
    "# Varying Number of Features\n",
    "\n",
    "%%time\n",
    "from sklearn.ensemble import RandomForestClassifier\n",
    "from sklearn.metrics import accuracy_score\n",
    "\n",
    "# Variable to store the accuracies of each random forest classifier with varying number of features\n",
    "accuracies = []\n",
    "# Number of features to perform a hyperparameter sweep\n",
    "features = np.logspace(2.0, 10.0, num=20, base=2.0, endpoint = False, dtype = int)\n",
    "\n",
    "# Number of experiments to run for each feature value\n",
    "num_trials = 10\n",
    "\n",
    "trial_scores = []\n",
    "mean_scores = []\n",
    "std_scores = []\n",
    "\n",
    "for feature in features:\n",
    "    \n",
    "    for t in range(num_trials):\n",
    "        clf = RandomForestClassifier(n_estimators=500, max_features = feature, max_depth = 5, n_jobs = -2)\n",
    "        clf.fit(images_train, labels_train)\n",
    "\n",
    "        # Test classifier\n",
    "        predicted_labels = clf.predict(images_test)\n",
    "\n",
    "        # Evaluate classifier\n",
    "        score = accuracy_score(labels_test, predicted_labels)\n",
    "    \n",
    "        if t == 0:\n",
    "            trial_scores = []\n",
    "            trial_scores.append(score)\n",
    "        elif t == 9:\n",
    "            trial_scores.append(score)\n",
    "            mean = np.mean(trial_scores)\n",
    "            std_dev = np.std(trial_scores)\n",
    "            mean_scores.append(mean)\n",
    "            std_scores.append(std_dev)\n",
    "        else: \n",
    "            trial_scores.append(score)"
   ]
  },
  {
   "cell_type": "code",
   "execution_count": 99,
   "metadata": {},
   "outputs": [
    {
     "data": {
      "image/png": "[encoded data removed]",
      "text/plain": [
       "<Figure size 432x288 with 1 Axes>"
      ]
     },
     "metadata": {
      "needs_background": "light"
     },
     "output_type": "display_data"
    }
   ],
   "source": [
    "fig = plt.figure()\n",
    "ax = plt.axes()\n",
    "ax.plot(features,mean_scores);\n",
    "ub0 = np.asarray(mean_scores) + 2*np.asarray(std_scores)\n",
    "lb0 = np.asarray(mean_scores) - 2*np.asarray(std_scores)\n",
    "ax.fill_between(features, ub0, lb0, facecolor='blue', alpha=0.1)\n",
    "ax.set_xlabel('Number of Features', fontsize=14)\n",
    "ax.set_ylabel('Classification Accuracy', fontsize=14)\n",
    "fig.savefig('varying_features_plot.png', dpi=300, bbox_inches='tight')"
   ]
  },
  {
   "cell_type": "code",
   "execution_count": 100,
   "metadata": {},
   "outputs": [
    {
     "name": "stdout",
     "output_type": "stream",
     "text": [
      "CPU times: user 26min 37s, sys: 10.8 s, total: 26min 48s\n",
      "Wall time: 26min 53s\n"
     ]
    }
   ],
   "source": [
    "# Varying maximum depth of trees.\n",
    "\n",
    "%%time\n",
    "from sklearn.ensemble import RandomForestClassifier\n",
    "from sklearn.metrics import accuracy_score\n",
    "\n",
    "# Variable to store the accuracies of each random forest classifier with varying number of depths\n",
    "accuracies = []\n",
    "# Number of depths to perform a hyperparameter sweep\n",
    "depths = np.logspace(2.0, 8.0, num = 10, base=2.0, endpoint = False, dtype = int)\n",
    "\n",
    "# Number of experiments to run for each depth value\n",
    "num_trials = 10\n",
    "\n",
    "trial_scores = []\n",
    "mean_scores = []\n",
    "std_scores = []\n",
    "\n",
    "for depth in depths:\n",
    "    \n",
    "    for t in range(num_trials):\n",
    "        clf = RandomForestClassifier(n_estimators=500, max_depth = depth)\n",
    "        clf.fit(images_train, labels_train)\n",
    "\n",
    "        # Test classifier\n",
    "        predicted_labels = clf.predict(images_test)\n",
    "\n",
    "        # Evaluate classifier\n",
    "        score = accuracy_score(labels_test, predicted_labels)\n",
    "        \n",
    "        if t == 0:\n",
    "            trial_scores = []\n",
    "            trial_scores.append(score)\n",
    "        elif t == 9:\n",
    "            trial_scores.append(score)\n",
    "            mean = np.mean(trial_scores)\n",
    "            std_dev = np.std(trial_scores)\n",
    "            mean_scores.append(mean)\n",
    "            std_scores.append(std_dev)\n",
    "        else: \n",
    "            trial_scores.append(score)"
   ]
  },
  {
   "cell_type": "code",
   "execution_count": 103,
   "metadata": {},
   "outputs": [
    {
     "data": {
      "image/png": "[encoded data removed]",
      "text/plain": [
       "<Figure size 432x288 with 1 Axes>"
      ]
     },
     "metadata": {
      "needs_background": "light"
     },
     "output_type": "display_data"
    }
   ],
   "source": [
    "fig = plt.figure()\n",
    "ax = plt.axes()\n",
    "ax.plot(depths,mean_scores);\n",
    "ub0 = np.asarray(mean_scores) + 2*np.asarray(std_scores)\n",
    "lb0 = np.asarray(mean_scores) - 2*np.asarray(std_scores)\n",
    "ax.fill_between(depths, ub0, lb0, facecolor='blue', alpha=0.1)\n",
    "ax.set_xlabel('Max Depth', fontsize=14)\n",
    "ax.set_ylabel('Classification Accuracy', fontsize=14)\n",
    "fig.savefig('varying_depths_plot.png', dpi=300, bbox_inches='tight')"
   ]
  },
  {
   "cell_type": "code",
   "execution_count": 13,
   "metadata": {},
   "outputs": [
    {
     "name": "stdout",
     "output_type": "stream",
     "text": [
      "CPU times: user 3h 27min 24s, sys: 40.9 s, total: 3h 28min 5s\n",
      "Wall time: 3h 30min 5s\n"
     ]
    },
    {
     "data": {
      "text/plain": [
       "{'max_depth': 21, 'max_features': 21}"
      ]
     },
     "execution_count": 13,
     "metadata": {},
     "output_type": "execute_result"
    }
   ],
   "source": [
    "# Grid Search Tuning\n",
    "\n",
    "%%time\n",
    "from sklearn.model_selection import GridSearchCV\n",
    "\n",
    "# Set up classifier\n",
    "clf = RandomForestClassifier(n_estimators = 500, random_state=42)\n",
    "\n",
    "# Set up combinations of paramters to tune\n",
    "param_grid = { \n",
    "    'max_features': np.logspace(2.0, 10, num = 10, base=2.0, endpoint = False, dtype = int),\n",
    "    'max_depth' : np.logspace(2.0, 8.0, num = 10, base=2.0, endpoint = False, dtype = int),\n",
    "}\n",
    "\n",
    "# Perform Grid Search Tuning\n",
    "CV_clf = GridSearchCV(estimator=clf, param_grid=param_grid, cv= 3)\n",
    "CV_clf.fit(images_train, labels_train)\n",
    "\n",
    "print(CV_clf.best_params_)"
   ]
  },
  {
   "cell_type": "code",
   "execution_count": 14,
   "metadata": {},
   "outputs": [
    {
     "name": "stdout",
     "output_type": "stream",
     "text": [
      "RandomForestClassifier(bootstrap=True, class_weight=None, criterion='gini',\n",
      "                       max_depth=21, max_features=21, max_leaf_nodes=None,\n",
      "                       min_impurity_decrease=0.0, min_impurity_split=None,\n",
      "                       min_samples_leaf=1, min_samples_split=2,\n",
      "                       min_weight_fraction_leaf=0.0, n_estimators=500,\n",
      "                       n_jobs=None, oob_score=False, random_state=42, verbose=0,\n",
      "                       warm_start=False)\n",
      "Accuracy:  0.957\n",
      "[0.90147783 0.88613861 0.89054726 0.87878788 0.89285714]\n",
      "Cross-Validation (CV=5) Accuracy: 0.89 (+/- 0.01)\n"
     ]
    }
   ],
   "source": [
    "# Evalulate the performance Random Forest classifier using the best combination of parameters \n",
    "# found by GridSearchCV. \n",
    "\n",
    "from sklearn.ensemble import RandomForestClassifier\n",
    "from sklearn.metrics import accuracy_score\n",
    "from sklearn.model_selection import cross_val_score\n",
    "\n",
    "# Set up classifier and train classifer\n",
    "clf = RandomForestClassifier(n_estimators=500, max_features = 21, max_depth = 21, random_state = 42)\n",
    "print(clf)\n",
    "clf.fit(images_train, labels_train)\n",
    "\n",
    "# Test classifier\n",
    "predicted_labels = clf.predict(images_test)\n",
    "\n",
    "# Evaluate classifier\n",
    "print(\"Accuracy: \", accuracy_score(labels_test, predicted_labels))\n",
    "\n",
    "# Using cross validation to evaluate performance. Compute mean score and 95% interval of score estimate\n",
    "scores = cross_val_score(clf, images_test, labels_test, cv=5, scoring='accuracy')\n",
    "print(scores)\n",
    "print(\"Cross-Validation (CV=5) Accuracy: %0.2f (+/- %0.2f)\" % (scores.mean(), scores.std() * 2))"
   ]
  },
  {
   "cell_type": "code",
   "execution_count": 15,
   "metadata": {},
   "outputs": [
    {
     "name": "stdout",
     "output_type": "stream",
     "text": [
      "CPU times: user 1h 28min 38s, sys: 23.5 s, total: 1h 29min 2s\n",
      "Wall time: 1h 29min 25s\n"
     ]
    },
    {
     "data": {
      "text/plain": [
       "{'max_features': 21, 'max_depth': 111}"
      ]
     },
     "execution_count": 15,
     "metadata": {},
     "output_type": "execute_result"
    }
   ],
   "source": [
    "# Random Search Tuning\n",
    "\n",
    "%%time\n",
    "from sklearn.model_selection import RandomizedSearchCV\n",
    "from sklearn.ensemble import RandomForestClassifier\n",
    "import numpy as np\n",
    "\n",
    "# Set up classifier\n",
    "clf = RandomForestClassifier(n_estimators = 500, random_state=42)\n",
    "\n",
    "# Set up combinations of paramters to tune\n",
    "param_grid = { \n",
    "    'max_features': np.logspace(2.0, 10, num= 10, base=2.0, endpoint = False, dtype = int),\n",
    "    'max_depth' : np.logspace(2.0, 8.0, num = 10, base=2.0, endpoint = False, dtype = int),\n",
    "}\n",
    "\n",
    "CV_clf = RandomizedSearchCV(estimator=clf, param_distributions=param_grid, n_iter = 50,\n",
    "                            cv = 3, random_state=42)\n",
    "\n",
    "CV_clf.fit(images_train, labels_train)\n",
    "\n",
    "CV_clf.best_params_"
   ]
  },
  {
   "cell_type": "code",
   "execution_count": 17,
   "metadata": {},
   "outputs": [
    {
     "name": "stdout",
     "output_type": "stream",
     "text": [
      "RandomForestClassifier(bootstrap=True, class_weight=None, criterion='gini',\n",
      "                       max_depth=111, max_features=21, max_leaf_nodes=None,\n",
      "                       min_impurity_decrease=0.0, min_impurity_split=None,\n",
      "                       min_samples_leaf=1, min_samples_split=2,\n",
      "                       min_weight_fraction_leaf=0.0, n_estimators=500,\n",
      "                       n_jobs=None, oob_score=False, random_state=42, verbose=0,\n",
      "                       warm_start=False)\n",
      "Accuracy:  0.957\n",
      "[0.90147783 0.88613861 0.89054726 0.87878788 0.89285714]\n",
      "Cross-Validation (CV=5) Accuracy: 0.89 (+/- 0.01)\n"
     ]
    }
   ],
   "source": [
    "# Evalulate the performance Random Forest classifier using the best combination \n",
    "# of parameters found by RandomizedSearchCV. \n",
    "\n",
    "from sklearn.ensemble import RandomForestClassifier\n",
    "from sklearn.metrics import accuracy_score\n",
    "from sklearn.model_selection import cross_val_score\n",
    "\n",
    "# Set up classifier and train classifer\n",
    "clf = RandomForestClassifier(n_estimators=500, max_features = 21, max_depth = 111, random_state = 42)\n",
    "print(clf)\n",
    "clf.fit(images_train, labels_train)\n",
    "\n",
    "# Test classifier\n",
    "predicted_labels = clf.predict(images_test)\n",
    "\n",
    "# Evaluate classifier\n",
    "print(\"Accuracy: \", accuracy_score(labels_test, predicted_labels))\n",
    "\n",
    "# Using cross validation to evaluate performance. Compute mean score and 95% interval of score estimate\n",
    "scores = cross_val_score(clf, images_test, labels_test, cv=5, scoring='accuracy')\n",
    "print(scores)\n",
    "print(\"Cross-Validation (CV=5) Accuracy: %0.2f (+/- %0.2f)\" % (scores.mean(), scores.std() * 2))"
   ]
  },
  {
   "cell_type": "code",
   "execution_count": 107,
   "metadata": {},
   "outputs": [],
   "source": [
    "from sklearn.ensemble import RandomForestClassifier\n",
    "from sklearn.model_selection import ParameterGrid\n",
    "from sklearn.metrics import accuracy_score\n",
    "import numpy as np\n",
    "\n",
    "features = np.logspace(2.0, 10, num= 10, base=2.0, endpoint = False, dtype = int)\n",
    "depth =  np.logspace(2.0, 8.0, num = 10, base=2.0, endpoint = False, dtype = int)\n",
    "grid = {'n_features': features, 'n_depth': depth}\n",
    "acc_scores = []\n",
    "\n",
    "num_trials = 5\n",
    "trial_score = 0\n",
    "for count, params in enumerate(ParameterGrid(grid)):\n",
    "    for t in range(num_trials):\n",
    "\n",
    "        # Obtain similarity matrix from USPORF classifier\n",
    "        clf = RandomForestClassifier(n_estimators = 500,\n",
    "                                       max_features = params['n_features'],\n",
    "                                       max_depth = params['n_depth'],\n",
    "                                       random_state=42,\n",
    "                                       n_jobs = -2)\n",
    "\n",
    "        clf.fit(images_train, labels_train)\n",
    "        \n",
    "        # Test classifier\n",
    "        predicted_labels = clf.predict(images_test)\n",
    "\n",
    "        # Evaluate classifier\n",
    "        score = accuracy_score(labels_test, predicted_labels)\n",
    "\n",
    "        # Save tree information and associated ARI score\n",
    "        trial_score += score\n",
    "        \n",
    "    acc_scores.append(trial_score/num_trials)\n",
    "    trial_score = 0"
   ]
  },
  {
   "cell_type": "code",
   "execution_count": 108,
   "metadata": {},
   "outputs": [
    {
     "data": {
      "image/png": "[encoded data removed]",
      "text/plain": [
       "<Figure size 432x288 with 2 Axes>"
      ]
     },
     "metadata": {
      "needs_background": "light"
     },
     "output_type": "display_data"
    }
   ],
   "source": [
    "acc = np.asarray(acc_scores).reshape(10,10)\n",
    "plt.imshow(acc)\n",
    "plt.colorbar()\n",
    "plt.xlabel('Features', fontsize=14)\n",
    "plt.ylabel('Depth', fontsize=14)\n",
    "plt.show()"
   ]
  },
  {
   "cell_type": "code",
   "execution_count": null,
   "metadata": {},
   "outputs": [],
   "source": []
  }
 ],
 "metadata": {
  "kernelspec": {
   "display_name": "Python 3",
   "language": "python",
   "name": "python3"
  },
  "language_info": {
   "codemirror_mode": {
    "name": "ipython",
    "version": 3
   },
   "file_extension": ".py",
   "mimetype": "text/x-python",
   "name": "python",
   "nbconvert_exporter": "python",
   "pygments_lexer": "ipython3",
   "version": "3.7.4"
  }
 },
 "nbformat": 4,
 "nbformat_minor": 2
}
