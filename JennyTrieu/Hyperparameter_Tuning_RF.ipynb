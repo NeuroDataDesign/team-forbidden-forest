{
 "cells": [
  {
   "cell_type": "code",
   "execution_count": 44,
   "metadata": {},
   "outputs": [],
   "source": [
    "from sklearn.datasets import fetch_openml\n",
    "# Load data from https://www.openml.org/d/554\n",
    "from PIL import Image, ImageDraw\n",
    "import matplotlib.pyplot as plt\n",
    "import numpy as np\n",
    "import pandas as pd\n",
    "import seaborn as sns\n",
    "sns.set()\n",
    "\n",
    "images, labels = fetch_openml('mnist_784', version=1, return_X_y=True)"
   ]
  },
  {
   "cell_type": "code",
   "execution_count": 5,
   "metadata": {},
   "outputs": [
    {
     "name": "stdout",
     "output_type": "stream",
     "text": [
      "9\n"
     ]
    },
    {
     "data": {
      "text/plain": [
       "<matplotlib.image.AxesImage at 0x133916210>"
      ]
     },
     "execution_count": 5,
     "metadata": {},
     "output_type": "execute_result"
    },
    {
     "data": {
      "image/png": "[encoded data removed]",
      "text/plain": [
       "<Figure size 432x288 with 1 Axes>"
      ]
     },
     "metadata": {
      "needs_background": "light"
     },
     "output_type": "display_data"
    }
   ],
   "source": [
    "# Pick the fifth image from the dataset (it's a 9)\n",
    "i = 4\n",
    "image, label = images[i], labels[i]\n",
    "\n",
    "# Print the image\n",
    "output = Image.new(\"L\", (28, 28))\n",
    "output.putdata(image)\n",
    "print(label)\n",
    "plt.imshow(np.asarray(output))"
   ]
  },
  {
   "cell_type": "code",
   "execution_count": 12,
   "metadata": {},
   "outputs": [],
   "source": [
    "# Splitting the data into training and testing samples\n",
    "from sklearn.model_selection import train_test_split\n",
    "images_train, images_test, labels_train, labels_test = train_test_split(images, labels, train_size = 1000,\n",
    "                                                                        test_size = 10000, random_state = 42)"
   ]
  },
  {
   "cell_type": "code",
   "execution_count": 13,
   "metadata": {},
   "outputs": [],
   "source": [
    "# Feature Scaling\n",
    "from sklearn.preprocessing import StandardScaler\n",
    "scaler = StandardScaler()\n",
    "images_train = scaler.fit_transform(images_train)\n",
    "images_test = scaler.transform(images_test)"
   ]
  },
  {
   "cell_type": "code",
   "execution_count": 26,
   "metadata": {},
   "outputs": [
    {
     "name": "stdout",
     "output_type": "stream",
     "text": [
      "RandomForestClassifier(bootstrap=True, class_weight=None, criterion='gini',\n",
      "                       max_depth=None, max_features='auto', max_leaf_nodes=None,\n",
      "                       min_impurity_decrease=0.0, min_impurity_split=None,\n",
      "                       min_samples_leaf=1, min_samples_split=2,\n",
      "                       min_weight_fraction_leaf=0.0, n_estimators=500,\n",
      "                       n_jobs=None, oob_score=False, random_state=None,\n",
      "                       verbose=0, warm_start=False)\n",
      "Accuracy:  0.9003\n"
     ]
    }
   ],
   "source": [
    "from sklearn.ensemble import RandomForestClassifier\n",
    "from sklearn.metrics import accuracy_score\n",
    "\n",
    "# Set up classifier and train classifer\n",
    "clf = RandomForestClassifier(n_estimators=500)\n",
    "print(clf)\n",
    "clf.fit(images_train, labels_train)\n",
    "\n",
    "# Test classifier\n",
    "predicted_labels = clf.predict(images_test)\n",
    "\n",
    "# Evaluate classifier\n",
    "print(\"Accuracy: \", accuracy_score(labels_test, predicted_labels))"
   ]
  },
  {
   "cell_type": "code",
   "execution_count": 43,
   "metadata": {},
   "outputs": [
    {
     "name": "stdout",
     "output_type": "stream",
     "text": [
      "1\n",
      "2\n",
      "4\n",
      "8\n",
      "12\n",
      "16\n",
      "32\n",
      "64\n",
      "112\n",
      "224\n",
      "248\n",
      "496\n",
      "600\n",
      "784\n",
      "CPU times: user 29min 54s, sys: 6.75 s, total: 30min\n",
      "Wall time: 32min 31s\n"
     ]
    }
   ],
   "source": [
    "%%time\n",
    "accuracies = []\n",
    "features = [1, 2, 4, 8, 12, 16, 32, 64, 112, 224, 248, 496, 600, 784]\n",
    "\n",
    "num_trials = 25\n",
    "\n",
    "dataObj = pd.DataFrame()\n",
    "feature_list = []\n",
    "accuracy_scores = []\n",
    "\n",
    "for feature in features:\n",
    "    print(feature)\n",
    "    \n",
    "    for t in range(num_trials):\n",
    "        clf = RandomForestClassifier(n_estimators=500, max_features = feature, max_depth = 5, random_state = 42)\n",
    "        clf.fit(images_train, labels_train)\n",
    "\n",
    "        # Test classifier\n",
    "        predicted_labels = clf.predict(images_test)\n",
    "\n",
    "        # Evaluate classifier\n",
    "        score = accuracy_score(labels_test, predicted_labels)\n",
    "        accuracy_scores.append(score)\n",
    "        feature_list.append(feature)\n",
    "        \n",
    "dataObj['Feature List'] = feature_list\n",
    "dataObj['Accuracy'] = accuracy_scores      "
   ]
  },
  {
   "cell_type": "code",
   "execution_count": 45,
   "metadata": {},
   "outputs": [
    {
     "name": "stdout",
     "output_type": "stream",
     "text": [
      "     Feature List  Accuracy\n",
      "0               1    0.7848\n",
      "1               1    0.7820\n",
      "2               1    0.7846\n",
      "3               1    0.7832\n",
      "4               1    0.7869\n",
      "..            ...       ...\n",
      "345           784    0.8232\n",
      "346           784    0.8225\n",
      "347           784    0.8194\n",
      "348           784    0.8207\n",
      "349           784    0.8182\n",
      "\n",
      "[350 rows x 2 columns]\n"
     ]
    },
    {
     "data": {
      "image/png": "[encoded data removed]",
      "text/plain": [
       "<Figure size 432x288 with 1 Axes>"
      ]
     },
     "metadata": {},
     "output_type": "display_data"
    }
   ],
   "source": [
    "sns.lineplot(x='Feature List', y='Accuracy',data = dataObj)\n",
    "plt.title('Varying Max_Features for MNIST Data')\n",
    "print(dataObj)"
   ]
  },
  {
   "cell_type": "code",
   "execution_count": 52,
   "metadata": {},
   "outputs": [
    {
     "name": "stdout",
     "output_type": "stream",
     "text": [
      "1\n",
      "2\n",
      "4\n",
      "8\n",
      "12\n",
      "14\n",
      "16\n",
      "25\n",
      "32\n",
      "CPU times: user 7min 21s, sys: 6.19 s, total: 7min 28s\n",
      "Wall time: 27min 7s\n"
     ]
    }
   ],
   "source": [
    "%%time\n",
    "accuracies = []\n",
    "depths = [1, 2, 4, 8, 12, 14, 16, 25, 32]\n",
    "\n",
    "num_trials = 25\n",
    "\n",
    "dataObj = pd.DataFrame()\n",
    "depth_list = []\n",
    "accuracy_scores = []\n",
    "\n",
    "for depth in depths:\n",
    "    print(depth)\n",
    "    \n",
    "    for t in range(num_trials):\n",
    "        clf = RandomForestClassifier(n_estimators=500, max_features = 10, max_depth = depth, random_state = 42)\n",
    "        clf.fit(images_train, labels_train)\n",
    "\n",
    "        # Test classifier\n",
    "        predicted_labels = clf.predict(images_test)\n",
    "\n",
    "        # Evaluate classifier\n",
    "        score = accuracy_score(labels_test, predicted_labels)\n",
    "        accuracy_scores.append(score)\n",
    "        depth_list.append(depth)\n",
    "        \n",
    "dataObj['Depth List'] = depth_list\n",
    "dataObj['Accuracy'] = accuracy_scores "
   ]
  },
  {
   "cell_type": "code",
   "execution_count": 53,
   "metadata": {},
   "outputs": [
    {
     "name": "stdout",
     "output_type": "stream",
     "text": [
      "     Depth List  Accuracy\n",
      "0             1    0.5542\n",
      "1             1    0.5542\n",
      "2             1    0.5542\n",
      "3             1    0.5542\n",
      "4             1    0.5542\n",
      "..          ...       ...\n",
      "220          32    0.9008\n",
      "221          32    0.9008\n",
      "222          32    0.9008\n",
      "223          32    0.9008\n",
      "224          32    0.9008\n",
      "\n",
      "[225 rows x 2 columns]\n"
     ]
    },
    {
     "data": {
      "image/png": "[encoded data removed]",
      "text/plain": [
       "<Figure size 432x288 with 1 Axes>"
      ]
     },
     "metadata": {},
     "output_type": "display_data"
    }
   ],
   "source": [
    "sns.lineplot(x='Depth List', y='Accuracy',data = dataObj)\n",
    "plt.title('Varying Max_Depth for MNIST Data')\n",
    "print(dataObj)"
   ]
  },
  {
   "cell_type": "code",
   "execution_count": null,
   "metadata": {},
   "outputs": [],
   "source": [
    "%%time\n",
    "from sklearn.model_selection import GridSearchCV\n",
    "\n",
    "# Set up classifier\n",
    "clf = RandomForestClassifier(n_estimators = 500, random_state=42)\n",
    "\n",
    "# Set up combinations of paramters to tune\n",
    "param_grid = { \n",
    "    'max_features': [1, 2, 4, 8, 12, 16, 32, 64, 112, 224, 248, 496, 600, 784],\n",
    "    'max_depth' : [1, 2, 4, 8, 12, 14, 16, 25, 32],\n",
    "}\n",
    "\n",
    "# Perform Grid Search Tuning\n",
    "CV_clf = GridSearchCV(estimator=clf, param_grid=param_grid, cv= 5)\n",
    "CV_clf.fit(images_train, labels_train)\n",
    "\n",
    "CV_clf.best_params_"
   ]
  },
  {
   "cell_type": "code",
   "execution_count": null,
   "metadata": {},
   "outputs": [],
   "source": []
  }
 ],
 "metadata": {
  "kernelspec": {
   "display_name": "Python 3",
   "language": "python",
   "name": "python3"
  },
  "language_info": {
   "codemirror_mode": {
    "name": "ipython",
    "version": 3
   },
   "file_extension": ".py",
   "mimetype": "text/x-python",
   "name": "python",
   "nbconvert_exporter": "python",
   "pygments_lexer": "ipython3",
   "version": "3.7.4"
  }
 },
 "nbformat": 4,
 "nbformat_minor": 2
}
