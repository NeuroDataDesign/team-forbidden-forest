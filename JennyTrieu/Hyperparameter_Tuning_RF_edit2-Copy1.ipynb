{
 "cells": [
  {
   "cell_type": "markdown",
   "metadata": {},
   "source": [
    "# Parameter Tuning Tutorial    \n",
    "\n",
    "<div class=\"alert alert-block alert-info\">\n",
    "<b> Objective:</b> \n",
    "This tutorial covers how to perform hyperparameter tuning on a random forest model using sklearn's GridSearchCV and RandomSearchCV. \n",
    "</div>\n",
    "\n",
    " **Brief Overview of Random Forests from** [TowardDataScience](https://towardsdatascience.com/an-implementation-and-explanation-of-the-random-forest-in-python-77bf308a9b76): Click on hyperlink to learn more.\n",
    "> A random forest is a model made up of many decision trees. Rather than just simply averaging the prediction of trees (which we could call a “forest”), this model uses two key concepts that gives it the name random:\n",
    "1. Random sampling of training data points when building trees\n",
    "2. Random subsets of features considered when splitting nodes\n",
    "\n",
    "**The Dataset**\n",
    "The random forest model will be trained to recognize handwritten digits from the MNIST database. Each greyscale image is 28 x 28, representing the digits 0-9, and consists of 60,000 training images and 10,000 test images. To reduce computational time, this tutorial uses only a subset of the full dataset (10,000 train images and 1,000 test images). Assuming a Gaussian distribution for the MNIST dataset, the dataset is also standardized such that each feature has a mean of 0 and a standard deviation of 1.\n",
    "\n",
    "<div class=\"alert alert-block alert-warning\">\n",
    "\n",
    "# Hyperparameter Tuning Methods\n",
    "\n",
    "<div>\n",
    "    "
   ]
  },
  {
   "cell_type": "markdown",
   "metadata": {},
   "source": [
    "The base random forest model which will be tuned is initialized with 500 estimators and a random state of 42. Using five-fold cross validation, this base model has an mean accuracy score of 0.89 with a standard deviation of 0.02.     "
   ]
  },
  {
   "cell_type": "markdown",
   "metadata": {},
   "source": [
    "```Python\n",
    "from sklearn.model_selection import GridSearchCV\n",
    "# Set up classifier and train classifer\n",
    "clf = RandomForestClassifier(n_estimators=500, random_state = 42)\n",
    "```"
   ]
  },
  {
   "cell_type": "markdown",
   "metadata": {},
   "source": [
    "1. GridSearchCV\n",
    "\n",
    "This function allows you to run an exhaustive search on all of the possible parameters and parameter combinations as inputs to the Random Forest model and returns the parameters that gives the best performance. \n",
    "\n",
    "> Below is the grid of all possible parameter combinations that are supplied to the Random Forest model. Only two parmeters, max_features and the max_depth of the random forest model, is tweaked. There are 100 possible combinations of these combinations."
   ]
  },
  {
   "cell_type": "markdown",
   "metadata": {},
   "source": [
    "```Python\n",
    "from sklearn.model_selection import GridSearchCV\n",
    "# Set up combinations of paramters to tune\n",
    "param_grid = { \n",
    "    'max_features': np.logspace(2.0, 10, num = 10, base=2.0, endpoint = False, dtype = int),\n",
    "    'max_depth' : np.logspace(2.0, 8.0, num = 10, base=2.0, endpoint = False, dtype = int),\n",
    "}\n",
    "CV_clf = GridSearchCV(estimator=clf, param_grid=param_grid, cv= 3)\n",
    "```"
   ]
  },
  {
   "cell_type": "markdown",
   "metadata": {},
   "source": [
    "2. RandomizedSearchCV\n",
    "\n",
    "Instead of trying out an exhaustive list of parameters and parameter combinations like GridSearchCV, only a fixed number of parameter combinations is sampled from the full sample space containing all possible combinations of parameter settings. The number of parameter settings that are tried is given by n_iter. \n",
    "\n",
    "> Below is the grid of all possible parameter combinations that are supplied to the Random Forest model. Only two parmeters, max_features and the max_depth of the random forest model, is tweaked. There are 100 possible combinations of these combinations. Of the 100 possible combinations, this sample code below in the tutorial selects 50."
   ]
  },
  {
   "cell_type": "markdown",
   "metadata": {},
   "source": [
    "```Python\n",
    "from sklearn.model_selection import RandomizedSearchCV\n",
    "# Set up combinations of paramters to tune\n",
    "param_grid = { \n",
    "    'max_features': np.logspace(2.0, 10, num = 10, base=2.0, endpoint = False, dtype = int),\n",
    "    'max_depth' : np.logspace(2.0, 8.0, num = 10, base=2.0, endpoint = False, dtype = int),\n",
    "}\n",
    "CV_clf = RandomizedSearchCV(estimator=clf, param_distributions=param_grid, n_iter = 50,\n",
    "                            cv = 3, random_state=42)\n",
    "```"
   ]
  },
  {
   "cell_type": "markdown",
   "metadata": {},
   "source": [
    "<div class=\"alert alert-block alert-success\">\n",
    "    \n",
    "# Results \n",
    "    \n",
    "</div>"
   ]
  },
  {
   "cell_type": "markdown",
   "metadata": {},
   "source": [
    "|Models         |Performance   |                    Best Params  |        Computation Time    |\n",
    "|---------------|--------------|---------------------------------|----------------------------|\n",
    "|Base Model     | 0.89 ± 0.02  |                                 |                            |  \n",
    "|Grid Search    | 0.89 ± 0.01  | n_features = 21, max_depth = 21 |CPU total time: 3h 55min 39s|\n",
    "|Random Search  | 0.90 ± 0.02  | n_features = 21, max_depth = 111|CPU total time: 2h 6min 6s  | \n",
    "\n",
    "\n",
    "<img src=\"varying_features_plot.png\" width=\"45%\" align=\"left\">\n",
    "<img src=\"varying_depths_plot.png\" width=\"45%\" align=\"right\">"
   ]
  },
  {
   "cell_type": "markdown",
   "metadata": {},
   "source": [
    "<div class=\"alert alert-block alert-info\">  \n",
    "    \n",
    "# Code\n",
    "    \n",
    "</div>"
   ]
  },
  {
   "cell_type": "markdown",
   "metadata": {},
   "source": [
    "<div class=\"alert alert-block alert-warning\">\n",
    "Code is structured in the following order.\n",
    "    <ol>\n",
    "    <li> Loading and Preprocessing Data </li>\n",
    "    <li> Building Base Random Forest Model </li>\n",
    "    <li> Tuning the number of features </li>\n",
    "    <li> Tuning the depths of the trees </li>\n",
    "    <li> Grid Search Tuning </li>\n",
    "    <li> Random Search Tuning </li>\n",
    "    </ol>\n",
    "</div>"
   ]
  },
  {
   "cell_type": "code",
   "execution_count": 2,
   "metadata": {},
   "outputs": [],
   "source": [
    "from sklearn.datasets import fetch_openml\n",
    "# Load data from https://www.openml.org/d/554\n",
    "from PIL import Image, ImageDraw\n",
    "import matplotlib.pyplot as plt\n",
    "import numpy as np\n",
    "import pandas as pd\n",
    "import seaborn as sns"
   ]
  },
  {
   "cell_type": "markdown",
   "metadata": {},
   "source": [
    "<div class=\"alert alert-block alert-warning\">\n",
    "Section One: Loading and Preprocessing Data\n",
    "</div>\n",
    "\n",
    "<div class=\"alert alert-block alert-info\">\n",
    "  There are 70,000 images of handwritten digits in this dataset. Each 28x28 pixel image has been transformed into a 1D vector with 784 features.\n",
    "</div>\n"
   ]
  },
  {
   "cell_type": "code",
   "execution_count": 3,
   "metadata": {},
   "outputs": [
    {
     "data": {
      "text/plain": [
       "(70000, 784)"
      ]
     },
     "execution_count": 3,
     "metadata": {},
     "output_type": "execute_result"
    }
   ],
   "source": [
    "# Load the dataset\n",
    "images, labels = fetch_openml('mnist_784', version=1, return_X_y=True)\n",
    "\n",
    "# Check dimensions of the data\n",
    "images.shape"
   ]
  },
  {
   "cell_type": "markdown",
   "metadata": {},
   "source": [
    "<div class=\"alert alert-block alert-info\">\n",
    "    Visualize the data. Use PIL to reshape and create a new image object and matplotlib to visualize the numpy array.\n",
    "</div>\n"
   ]
  },
  {
   "cell_type": "code",
   "execution_count": 30,
   "metadata": {},
   "outputs": [
    {
     "name": "stdout",
     "output_type": "stream",
     "text": [
      "label: 9\n"
     ]
    },
    {
     "data": {
      "text/plain": [
       "<matplotlib.image.AxesImage at 0x128a55290>"
      ]
     },
     "execution_count": 30,
     "metadata": {},
     "output_type": "execute_result"
    },
    {
     "data": {
      "image/png": "[encoded data removed]",
      "text/plain": [
       "<Figure size 432x288 with 1 Axes>"
      ]
     },
     "metadata": {
      "needs_background": "light"
     },
     "output_type": "display_data"
    }
   ],
   "source": [
    "# Pick the fifth image from the dataset (it's a 9)\n",
    "i = 4\n",
    "image, label = images[i], labels[i]\n",
    "\n",
    "# Print the image\n",
    "output = Image.new(\"L\", (28, 28))\n",
    "output.putdata(image)\n",
    "print('label:',label)\n",
    "plt.imshow(np.asarray(output))"
   ]
  },
  {
   "cell_type": "markdown",
   "metadata": {},
   "source": [
    "<div class=\"alert alert-block alert-info\">\n",
    "    Split the data into training and testing samples. To reduce computational time, use only 10,000 samples for training and 1000 for testing.\n",
    "</div>"
   ]
  },
  {
   "cell_type": "code",
   "execution_count": 4,
   "metadata": {},
   "outputs": [
    {
     "name": "stdout",
     "output_type": "stream",
     "text": [
      "Train samples: 10000\n",
      "Test samples: 1000\n"
     ]
    }
   ],
   "source": [
    "# Splitting the data into training and testing samples\n",
    "from sklearn.model_selection import train_test_split\n",
    "images_train, images_test, labels_train, labels_test = train_test_split(images, labels, train_size = 10000,\n",
    "                                                                        test_size = 1000, random_state = 42)\n",
    "print('Train samples:', images_train.shape[0])\n",
    "print('Test samples:', images_test.shape[0])"
   ]
  },
  {
   "cell_type": "markdown",
   "metadata": {},
   "source": [
    "<div class=\"alert alert-block alert-info\">\n",
    "    Assume a Gaussian distribution for the MNIST dataset and standardize the data such that each feature has a mean of 0 and a standard deviation of 1.\n",
    "</div>"
   ]
  },
  {
   "cell_type": "code",
   "execution_count": 35,
   "metadata": {},
   "outputs": [],
   "source": [
    "# Feature Scaling\n",
    "from sklearn.preprocessing import StandardScaler\n",
    "scaler = StandardScaler()\n",
    "images_train = scaler.fit_transform(images_train)\n",
    "images_test = scaler.transform(images_test)"
   ]
  },
  {
   "cell_type": "markdown",
   "metadata": {},
   "source": [
    "<div class=\"alert alert-block alert-warning\">\n",
    "Section Two: Create and evaluate base Random Forest model with 500 estimators.\n",
    "</div>"
   ]
  },
  {
   "cell_type": "markdown",
   "metadata": {},
   "source": [
    "<div class=\"alert alert-block alert-info\">\n",
    "    Set up a random forest classifier with 500 trees, leaving other parameters as default parameters.\n",
    "</div>"
   ]
  },
  {
   "cell_type": "code",
   "execution_count": 31,
   "metadata": {},
   "outputs": [
    {
     "name": "stdout",
     "output_type": "stream",
     "text": [
      "RandomForestClassifier(bootstrap=True, class_weight=None, criterion='gini',\n",
      "                       max_depth=None, max_features='auto', max_leaf_nodes=None,\n",
      "                       min_impurity_decrease=0.0, min_impurity_split=None,\n",
      "                       min_samples_leaf=1, min_samples_split=2,\n",
      "                       min_weight_fraction_leaf=0.0, n_estimators=500,\n",
      "                       n_jobs=None, oob_score=False, random_state=42, verbose=0,\n",
      "                       warm_start=False)\n",
      "Accuracy:  0.954\n",
      "[0.91133005 0.89108911 0.90049751 0.89393939 0.88265306]\n",
      "Cross-Validation (CV=5) Accuracy: 0.90 (+/- 0.02)\n"
     ]
    }
   ],
   "source": [
    "from sklearn.ensemble import RandomForestClassifier\n",
    "from sklearn.metrics import accuracy_score\n",
    "from sklearn.model_selection import cross_val_score\n",
    "\n",
    "# Set up classifier and train classifer\n",
    "clf = RandomForestClassifier(n_estimators=500, random_state = 42)\n",
    "print(clf)\n",
    "clf.fit(images_train, labels_train)\n",
    "\n",
    "# Test classifier\n",
    "predicted_labels = clf.predict(images_test)\n",
    "\n",
    "# Evaluate classifier\n",
    "print(\"Accuracy: \", accuracy_score(labels_test, predicted_labels))\n",
    "\n",
    "# Using cross validation to evaluate performance. Compute mean score and 95% interval of score estimate\n",
    "scores = cross_val_score(clf, images_test, labels_test, cv=5, scoring='accuracy')\n",
    "print(scores)\n",
    "print(\"Cross-Validation (CV=5) Accuracy: %0.2f (+/- %0.2f)\" % (scores.mean(), scores.std() * 2))"
   ]
  },
  {
   "cell_type": "markdown",
   "metadata": {},
   "source": [
    "<div class=\"alert alert-block alert-warning\">\n",
    "Section Three: Tuning number of features.\n",
    "</div>"
   ]
  },
  {
   "cell_type": "code",
   "execution_count": 25,
   "metadata": {},
   "outputs": [
    {
     "name": "stdout",
     "output_type": "stream",
     "text": [
      "4\n",
      "5\n",
      "6\n",
      "9\n",
      "12\n",
      "16\n",
      "21\n",
      "27\n",
      "36\n",
      "48\n",
      "64\n",
      "84\n",
      "111\n",
      "147\n",
      "194\n",
      "256\n",
      "337\n",
      "445\n",
      "588\n",
      "776\n",
      "CPU times: user 2h 10min 47s, sys: 16.3 s, total: 2h 11min 3s\n",
      "Wall time: 2h 18min 44s\n"
     ]
    }
   ],
   "source": [
    "%%time\n",
    "# Variable to store the accuracies of each random forest classifier with varying number of features\n",
    "accuracies = []\n",
    "# Number of features to perform a hyperparameter sweep\n",
    "features = np.logspace(2.0, 10.0, num=20, base=2.0, endpoint = False, dtype = int)\n",
    "\n",
    "# Number of experiments to run for each feature value\n",
    "num_trials = 10\n",
    "\n",
    "feature_dataObj = pd.DataFrame()\n",
    "feature_list = []\n",
    "accuracy_scores = []\n",
    "\n",
    "for feature in features:\n",
    "    print(feature)\n",
    "    \n",
    "    for t in range(num_trials):\n",
    "        clf = RandomForestClassifier(n_estimators=500, max_features = feature, max_depth = 5)\n",
    "        clf.fit(images_train, labels_train)\n",
    "\n",
    "        # Test classifier\n",
    "        predicted_labels = clf.predict(images_test)\n",
    "\n",
    "        # Evaluate classifier\n",
    "        score = accuracy_score(labels_test, predicted_labels)\n",
    "        accuracy_scores.append(score)\n",
    "        feature_list.append(feature)\n",
    "        \n",
    "feature_dataObj['Feature List'] = feature_list\n",
    "feature_dataObj['Accuracy'] = accuracy_scores      "
   ]
  },
  {
   "cell_type": "code",
   "execution_count": 36,
   "metadata": {},
   "outputs": [
    {
     "name": "stdout",
     "output_type": "stream",
     "text": [
      "     Feature List  Accuracy\n",
      "0               4     0.845\n",
      "1               4     0.845\n",
      "2               4     0.845\n",
      "3               4     0.837\n",
      "4               4     0.846\n",
      "..            ...       ...\n",
      "195           776     0.786\n",
      "196           776     0.791\n",
      "197           776     0.794\n",
      "198           776     0.798\n",
      "199           776     0.795\n",
      "\n",
      "[200 rows x 2 columns]\n"
     ]
    },
    {
     "data": {
      "image/png": "[encoded data removed]",
      "text/plain": [
       "<Figure size 432x288 with 1 Axes>"
      ]
     },
     "metadata": {
      "needs_background": "light"
     },
     "output_type": "display_data"
    }
   ],
   "source": [
    "import seaborn as sns\n",
    "sns.lineplot(x='Feature List', y='Accuracy',data=feature_dataObj, marker='o')\n",
    "# plt.title('Varying Max_Features for MNIST Data')\n",
    "plt.xlabel('Number of Features',fontsize=14)\n",
    "plt.ylabel('Classification Accuracy',fontsize=14)\n",
    "print(feature_dataObj)\n",
    "# save the figure to the current working directory\n",
    "plt.savefig('varying_features_plot.png', dpi=300, bbox_inches='tight')"
   ]
  },
  {
   "cell_type": "markdown",
   "metadata": {},
   "source": [
    "<div class=\"alert alert-block alert-warning\">\n",
    "Section Four: Tuning maximum depth of trees.\n",
    "</div>"
   ]
  },
  {
   "cell_type": "code",
   "execution_count": 27,
   "metadata": {},
   "outputs": [
    {
     "name": "stdout",
     "output_type": "stream",
     "text": [
      "4\n",
      "6\n",
      "9\n",
      "13\n",
      "21\n",
      "32\n",
      "48\n",
      "73\n",
      "111\n",
      "168\n",
      "CPU times: user 25min 47s, sys: 10 s, total: 25min 57s\n",
      "Wall time: 28min 4s\n"
     ]
    }
   ],
   "source": [
    "%%time\n",
    "# Variable to store the accuracies of each random forest classifier with varying number of features\n",
    "accuracies = []\n",
    "# Number of depths to perform a hyperparameter sweep\n",
    "depths = np.logspace(2.0, 8.0, num = 10, base=2.0, endpoint = False, dtype = int)\n",
    "\n",
    "# Number of experiments to run for each depth value\n",
    "num_trials = 10\n",
    "\n",
    "depth_dataObj = pd.DataFrame()\n",
    "depth_list = []\n",
    "accuracy_scores = []\n",
    "\n",
    "for depth in depths:\n",
    "    print(depth)\n",
    "    \n",
    "    for t in range(num_trials):\n",
    "        clf = RandomForestClassifier(n_estimators=500, max_depth = depth)\n",
    "        clf.fit(images_train, labels_train)\n",
    "\n",
    "        # Test classifier\n",
    "        predicted_labels = clf.predict(images_test)\n",
    "\n",
    "        # Evaluate classifier\n",
    "        score = accuracy_score(labels_test, predicted_labels)\n",
    "        accuracy_scores.append(score)\n",
    "        depth_list.append(depth)\n",
    "        \n",
    "depth_dataObj['Depth List'] = depth_list\n",
    "depth_dataObj['Accuracy'] = accuracy_scores "
   ]
  },
  {
   "cell_type": "code",
   "execution_count": 37,
   "metadata": {},
   "outputs": [
    {
     "name": "stdout",
     "output_type": "stream",
     "text": [
      "    Depth List  Accuracy\n",
      "0            4     0.824\n",
      "1            4     0.806\n",
      "2            4     0.810\n",
      "3            4     0.812\n",
      "4            4     0.816\n",
      "..         ...       ...\n",
      "95         168     0.956\n",
      "96         168     0.958\n",
      "97         168     0.957\n",
      "98         168     0.955\n",
      "99         168     0.958\n",
      "\n",
      "[100 rows x 2 columns]\n"
     ]
    },
    {
     "data": {
      "image/png": "[encoded data removed]",
      "text/plain": [
       "<Figure size 432x288 with 1 Axes>"
      ]
     },
     "metadata": {
      "needs_background": "light"
     },
     "output_type": "display_data"
    }
   ],
   "source": [
    "sns.lineplot(x='Depth List', y='Accuracy',data = depth_dataObj,marker='o')\n",
    "plt.xlabel('Max Depth',fontsize=14)\n",
    "plt.ylabel('Classification Accuracy',fontsize=14)\n",
    "print(depth_dataObj)\n",
    "plt.savefig('varying_depths_plot.png', dpi=300, bbox_inches='tight')"
   ]
  },
  {
   "cell_type": "markdown",
   "metadata": {},
   "source": [
    "<div class=\"alert alert-block alert-warning\">\n",
    "Section Five: Grid Search Tuning\n",
    "</div>\n"
   ]
  },
  {
   "cell_type": "code",
   "execution_count": 94,
   "metadata": {},
   "outputs": [
    {
     "name": "stdout",
     "output_type": "stream",
     "text": [
      "CPU times: user 3h 54min 26s, sys: 1min 12s, total: 3h 55min 39s\n",
      "Wall time: 12h 1min 47s\n"
     ]
    },
    {
     "data": {
      "text/plain": [
       "{'max_depth': 21, 'max_features': 21}"
      ]
     },
     "execution_count": 94,
     "metadata": {},
     "output_type": "execute_result"
    }
   ],
   "source": [
    "%%time\n",
    "from sklearn.model_selection import GridSearchCV\n",
    "\n",
    "# Set up classifier\n",
    "clf = RandomForestClassifier(n_estimators = 500, random_state=42)\n",
    "\n",
    "# Set up combinations of paramters to tune\n",
    "param_grid = { \n",
    "    'max_features': np.logspace(2.0, 10, num = 10, base=2.0, endpoint = False, dtype = int),\n",
    "    'max_depth' : np.logspace(2.0, 8.0, num = 10, base=2.0, endpoint = False, dtype = int),\n",
    "}\n",
    "\n",
    "# Perform Grid Search Tuning\n",
    "CV_clf = GridSearchCV(estimator=clf, param_grid=param_grid, cv= 3)\n",
    "CV_clf.fit(images_train, labels_train)\n",
    "\n",
    "CV_clf.best_params_"
   ]
  },
  {
   "cell_type": "markdown",
   "metadata": {},
   "source": [
    "<div class=\"alert alert-block alert-info\">\n",
    "    Evalulate the performance Random Forest classifier using the best combination of parameters found by GridSearchCV. \n",
    "</div>"
   ]
  },
  {
   "cell_type": "code",
   "execution_count": 95,
   "metadata": {},
   "outputs": [
    {
     "name": "stdout",
     "output_type": "stream",
     "text": [
      "RandomForestClassifier(bootstrap=True, class_weight=None, criterion='gini',\n",
      "                       max_depth=21, max_features=21, max_leaf_nodes=None,\n",
      "                       min_impurity_decrease=0.0, min_impurity_split=None,\n",
      "                       min_samples_leaf=1, min_samples_split=2,\n",
      "                       min_weight_fraction_leaf=0.0, n_estimators=500,\n",
      "                       n_jobs=None, oob_score=False, random_state=42, verbose=0,\n",
      "                       warm_start=False)\n",
      "Accuracy:  0.957\n",
      "[0.90147783 0.88613861 0.89054726 0.87878788 0.89285714]\n",
      "Cross-Validation (CV=5) Accuracy: 0.89 (+/- 0.01)\n"
     ]
    }
   ],
   "source": [
    "from sklearn.ensemble import RandomForestClassifier\n",
    "from sklearn.metrics import accuracy_score\n",
    "from sklearn.model_selection import cross_val_score\n",
    "\n",
    "# Set up classifier and train classifer\n",
    "clf = RandomForestClassifier(n_estimators=500, max_features = 21, max_depth = 21, random_state = 42)\n",
    "print(clf)\n",
    "clf.fit(images_train, labels_train)\n",
    "\n",
    "# Test classifier\n",
    "predicted_labels = clf.predict(images_test)\n",
    "\n",
    "# Evaluate classifier\n",
    "print(\"Accuracy: \", accuracy_score(labels_test, predicted_labels))\n",
    "\n",
    "# Using cross validation to evaluate performance. Compute mean score and 95% interval of score estimate\n",
    "scores = cross_val_score(clf, images_test, labels_test, cv=5, scoring='accuracy')\n",
    "print(scores)\n",
    "print(\"Cross-Validation (CV=5) Accuracy: %0.2f (+/- %0.2f)\" % (scores.mean(), scores.std() * 2))"
   ]
  },
  {
   "cell_type": "markdown",
   "metadata": {},
   "source": [
    "<div class=\"alert alert-block alert-warning\">\n",
    "Section Six: Random Search Tuning.\n",
    "<div>"
   ]
  },
  {
   "cell_type": "code",
   "execution_count": 32,
   "metadata": {},
   "outputs": [
    {
     "name": "stdout",
     "output_type": "stream",
     "text": [
      "CPU times: user 2h 19min 36s, sys: 29.2 s, total: 2h 20min 6s\n",
      "Wall time: 7h 38min 25s\n"
     ]
    },
    {
     "data": {
      "text/plain": [
       "{'max_features': 21, 'max_depth': 111}"
      ]
     },
     "execution_count": 32,
     "metadata": {},
     "output_type": "execute_result"
    }
   ],
   "source": [
    "%%time\n",
    "from sklearn.model_selection import RandomizedSearchCV\n",
    "from sklearn.ensemble import RandomForestClassifier\n",
    "import numpy as np\n",
    "\n",
    "# Set up classifier\n",
    "clf = RandomForestClassifier(n_estimators = 500, random_state=42)\n",
    "\n",
    "# Set up combinations of paramters to tune\n",
    "param_grid = { \n",
    "    'max_features': np.logspace(2.0, 10, num= 10, base=2.0, endpoint = False, dtype = int),\n",
    "    'max_depth' : np.logspace(2.0, 8.0, num = 10, base=2.0, endpoint = False, dtype = int),\n",
    "}\n",
    "\n",
    "CV_clf = RandomizedSearchCV(estimator=clf, param_distributions=param_grid, n_iter = 50,\n",
    "                            cv = 3, random_state=42)\n",
    "\n",
    "CV_clf.fit(images_train, labels_train)\n",
    "\n",
    "CV_clf.best_params_"
   ]
  },
  {
   "cell_type": "markdown",
   "metadata": {},
   "source": [
    "<div class=\"alert alert-block alert-info\">\n",
    "    Evalulate the performance Random Forest classifier using the best combination of parameters found by RandomizedSearchCV. \n",
    "</div>"
   ]
  },
  {
   "cell_type": "code",
   "execution_count": 14,
   "metadata": {},
   "outputs": [
    {
     "name": "stdout",
     "output_type": "stream",
     "text": [
      "RandomForestClassifier(bootstrap=True, class_weight=None, criterion='gini',\n",
      "                       max_depth=111, max_features=21, max_leaf_nodes=None,\n",
      "                       min_impurity_decrease=0.0, min_impurity_split=None,\n",
      "                       min_samples_leaf=1, min_samples_split=2,\n",
      "                       min_weight_fraction_leaf=0.0, n_estimators=500,\n",
      "                       n_jobs=None, oob_score=False, random_state=42, verbose=0,\n",
      "                       warm_start=False)\n",
      "Accuracy:  0.957\n",
      "[0.90147783 0.88613861 0.89054726 0.87373737 0.89795918]\n",
      "Cross-Validation (CV=5) Accuracy: 0.89 (+/- 0.02)\n"
     ]
    }
   ],
   "source": [
    "from sklearn.ensemble import RandomForestClassifier\n",
    "from sklearn.metrics import accuracy_score\n",
    "from sklearn.model_selection import cross_val_score\n",
    "\n",
    "# Set up classifier and train classifer\n",
    "clf = RandomForestClassifier(n_estimators=500, max_features = 21, max_depth = 111, random_state = 42)\n",
    "print(clf)\n",
    "clf.fit(images_train, labels_train)\n",
    "\n",
    "# Test classifier\n",
    "predicted_labels = clf.predict(images_test)\n",
    "\n",
    "# Evaluate classifier\n",
    "print(\"Accuracy: \", accuracy_score(labels_test, predicted_labels))\n",
    "\n",
    "# Using cross validation to evaluate performance. Compute mean score and 95% interval of score estimate\n",
    "scores = cross_val_score(clf, images_test, labels_test, cv=5, scoring='accuracy')\n",
    "print(scores)\n",
    "print(\"Cross-Validation (CV=5) Accuracy: %0.2f (+/- %0.2f)\" % (scores.mean(), scores.std() * 2))"
   ]
  },
  {
   "cell_type": "code",
   "execution_count": null,
   "metadata": {},
   "outputs": [],
   "source": []
  }
 ],
 "metadata": {
  "kernelspec": {
   "display_name": "Python 3",
   "language": "python",
   "name": "python3"
  },
  "language_info": {
   "codemirror_mode": {
    "name": "ipython",
    "version": 3
   },
   "file_extension": ".py",
   "mimetype": "text/x-python",
   "name": "python",
   "nbconvert_exporter": "python",
   "pygments_lexer": "ipython3",
   "version": "3.7.4"
  }
 },
 "nbformat": 4,
 "nbformat_minor": 2
}
