{
 "cells": [
  {
   "cell_type": "code",
   "execution_count": 1,
   "metadata": {},
   "outputs": [],
   "source": [
    "\"\"\"\n",
    "Goals: \n",
    "- Generate USPORF tree structures in Python\n",
    "- Apply IF scoring\n",
    "- Reduce run time\n",
    "\"\"\"\n",
    "\n",
    "import numpy as np\n",
    "import matplotlib.pyplot as plt\n",
    "import pandas as pd \n",
    "import time\n",
    "import random as rn\n",
    "import os\n"
   ]
  },
  {
   "cell_type": "code",
   "execution_count": 7,
   "metadata": {},
   "outputs": [
    {
     "data": {
      "text/plain": [
       "matrix([[0, 0, 0],\n",
       "        [0, 0, 0],\n",
       "        [0, 0, 1],\n",
       "        [0, 0, 0]])"
      ]
     },
     "metadata": {},
     "output_type": "display_data"
    },
    {
     "name": "stdout",
     "output_type": "stream",
     "text": [
      "X_raw:  (3000, 20)\n",
      "A:  (20, 5)\n",
      "X_proj:  (3000, 5)\n"
     ]
    }
   ],
   "source": [
    "\"\"\"\n",
    "EXP 1:\n",
    "Generate a sparse projected matrix `A` in [Algo 1].\n",
    "\"\"\"\n",
    "# n-samples; p-input features; d-projected features\n",
    "n = 3000; p = 20; d = 5 \n",
    "\n",
    "def projectA(p,d, Lambda = 1/20):\n",
    "    A = np.matrix(np.random.choice(\n",
    "        np.array([-1, 0, 1]), p*d, p=[Lambda/2, 1-Lambda, Lambda/2]\n",
    "    ).reshape(p,d))\n",
    "    \n",
    "    return A\n",
    "\n",
    "\n",
    "# Display-----------------------------------\n",
    "display(projectA(4, 3))\n",
    "X_raw = np.matrix(np.random.uniform(size = (n,p)))\n",
    "print('X_raw: ', X_raw.shape)\n",
    "A = projectA(p, d)\n",
    "print('A: ', A.shape)\n",
    "X_proj = np.dot(X_raw,A)\n",
    "print('X_proj: ', X_proj.shape)\n",
    "Z_mat = (X_proj[:,0])\n",
    "Z_arr = np.array(Z_mat).reshape(Z_mat.shape[0]) # first col of X_proj -> into [Algo 3]"
   ]
  },
  {
   "cell_type": "code",
   "execution_count": 8,
   "metadata": {},
   "outputs": [
    {
     "data": {
      "image/png": "[encoded data removed]",
      "text/plain": [
       "<Figure size 432x288 with 1 Axes>"
      ]
     },
     "metadata": {
      "needs_background": "light"
     },
     "output_type": "display_data"
    }
   ],
   "source": [
    "\"\"\"\n",
    "EXP 2:\n",
    "Generate `sample` = 2 nodes 1D array.\n",
    "Use it to test the Spliting Algo. 3 in USPORF paper\n",
    "\"\"\"\n",
    "node1_1 = np.random.normal(-1-3, 0.3, size = n)\n",
    "node1_2 = np.random.normal(0.8-3, 0.2, size = n)\n",
    "node1_t = np.append(node1_1,node1_2)\n",
    "sample = np.random.choice(node1_t, n)\n",
    "\n",
    "# histrogram of `sample` -> split node should be ~ -3.0\n",
    "plt.hist(sample, 30, density=True)\n",
    "plt.show()"
   ]
  },
  {
   "cell_type": "code",
   "execution_count": 4,
   "metadata": {},
   "outputs": [
    {
     "name": "stdout",
     "output_type": "stream",
     "text": [
      "(40000000,)\n",
      "linspace t:  0.5478653907775879\n",
      "(40000000,)\n",
      "arange t:  0.3941683769226074\n",
      "(40000000,)\n",
      "range t:  11.093343734741211\n"
     ]
    }
   ],
   "source": [
    "\"\"\"\n",
    "EXP 3:\n",
    "Test speed of arithmatric function\n",
    "\"\"\"\n",
    "num = 4*10**7\n",
    "\n",
    "t_start = time.time()\n",
    "x1 = np.linspace(0, num, num)\n",
    "t_run = time.time()- t_start\n",
    "print(x1.shape)\n",
    "print('linspace t: ', t_run)\n",
    "\n",
    "t_start = time.time()\n",
    "x2 = np.arange(0, num) # np.arange is fastest\n",
    "t_run = time.time()- t_start\n",
    "print(x2.shape)\n",
    "print('arange t: ', t_run)\n",
    "\n",
    "t_start = time.time()\n",
    "x3 = np.array(range(0, num)) \n",
    "t_run = time.time()- t_start\n",
    "print(x3.shape)\n",
    "print('range t: ', t_run)"
   ]
  },
  {
   "cell_type": "code",
   "execution_count": 10,
   "metadata": {},
   "outputs": [
    {
     "name": "stdout",
     "output_type": "stream",
     "text": [
      "(-2.989199438669978, 1095.2250189867482)\n",
      "t:  0.2330484390258789\n"
     ]
    }
   ],
   "source": [
    "\"\"\"\n",
    "EXP 4:\n",
    "Generate [Algo 3] the `Fast-BIC1D` spliting.\n",
    "Use `for loop`\n",
    "\"\"\"\n",
    "def FastBIC(Z_arr):\n",
    "    N = Z_arr.shape[0]\n",
    "    Z_ind = np.argsort(Z_arr)\n",
    "    minBIC = np.inf\n",
    "\n",
    "    for s in range(2, (N+1)-2):\n",
    "        Curr_1 = Z_arr[Z_ind[:s]]\n",
    "        Curr_2 = Z_arr[Z_ind[s:]]\n",
    "        var_1 = np.var(Curr_1)\n",
    "        var_2 = np.var(Curr_2)\n",
    "        if (var_1 == 0) or (var_2 == 0):\n",
    "            continue\n",
    "        \n",
    "        n_1 = s\n",
    "        n_2 = N-s\n",
    "        pi_1 = s/N\n",
    "        pi_2 = (N-s)/N\n",
    "        var_comb = (pi_1*var_1 + pi_2*var_2)\n",
    "        BIC_diff_var = -2*(n_1*np.log(pi_1)\n",
    "                           - n_1/2*np.log(2*np.pi*var_1)\n",
    "                           + n_2*np.log(pi_2)\n",
    "                           - n_2/2*np.log(2*np.pi*var_2))\n",
    "        BIC_same_var = -2*(n_1*np.log(pi_1)\n",
    "                           - n_1/2*np.log(2*np.pi*var_comb)\n",
    "                           + n_2*np.log(pi_2)\n",
    "                           - n_2/2*np.log(2*np.pi*var_comb))\n",
    "        BIC_curr = min(BIC_diff_var, BIC_same_var)\n",
    "\n",
    "        if BIC_curr < minBIC:\n",
    "            minBIC = BIC_curr\n",
    "            #  splitPoint = (max(Curr_1) + min(Curr_2))/2\n",
    "            splitPoint = (Z_arr[Z_ind[s-1]] + Z_arr[Z_ind[s]])/2\n",
    "            \n",
    "    return(splitPoint, minBIC)\n",
    "\n",
    "# Display-----------------------------------\n",
    "t_start = time.time()\n",
    "fun = FastBIC(Z_arr = sample)\n",
    "t_run = time.time() - t_start\n",
    "print(fun)\n",
    "print('t: ', t_run)"
   ]
  },
  {
   "cell_type": "code",
   "execution_count": 11,
   "metadata": {},
   "outputs": [
    {
     "ename": "NameError",
     "evalue": "name 'list_s' is not defined",
     "output_type": "error",
     "traceback": [
      "\u001b[0;31m---------------------------------------------------------------------------\u001b[0m",
      "\u001b[0;31mNameError\u001b[0m                                 Traceback (most recent call last)",
      "\u001b[0;32m<ipython-input-11-a8b7d2a06b4d>\u001b[0m in \u001b[0;36m<module>\u001b[0;34m\u001b[0m\n\u001b[1;32m     15\u001b[0m \u001b[0ml_n_1\u001b[0m \u001b[0;34m=\u001b[0m \u001b[0ml_s\u001b[0m\u001b[0;34m\u001b[0m\u001b[0;34m\u001b[0m\u001b[0m\n\u001b[1;32m     16\u001b[0m \u001b[0ml_n_2\u001b[0m \u001b[0;34m=\u001b[0m \u001b[0mN\u001b[0m \u001b[0;34m-\u001b[0m \u001b[0ml_s\u001b[0m\u001b[0;34m\u001b[0m\u001b[0;34m\u001b[0m\u001b[0m\n\u001b[0;32m---> 17\u001b[0;31m \u001b[0ml_pi_1\u001b[0m \u001b[0;34m=\u001b[0m \u001b[0mlist_s\u001b[0m\u001b[0;34m/\u001b[0m\u001b[0mN\u001b[0m\u001b[0;34m\u001b[0m\u001b[0;34m\u001b[0m\u001b[0m\n\u001b[0m\u001b[1;32m     18\u001b[0m \u001b[0ml_pi_2\u001b[0m \u001b[0;34m=\u001b[0m \u001b[0;34m(\u001b[0m\u001b[0mN\u001b[0m\u001b[0;34m-\u001b[0m\u001b[0mlist_s\u001b[0m\u001b[0;34m)\u001b[0m\u001b[0;34m/\u001b[0m\u001b[0mN\u001b[0m\u001b[0;34m\u001b[0m\u001b[0;34m\u001b[0m\u001b[0m\n\u001b[1;32m     19\u001b[0m \u001b[0;34m\u001b[0m\u001b[0m\n",
      "\u001b[0;31mNameError\u001b[0m: name 'list_s' is not defined"
     ]
    }
   ],
   "source": [
    "\"\"\"\n",
    "EXP 5:\n",
    "Generate [Algo 3] the `Fast-BIC1D` spliting.\n",
    "Using for `np.vectorize`\n",
    "\"\"\"\n",
    "# def FastBIC2(Zarr):\n",
    "Z_arr = sample\n",
    "# single variable\n",
    "# Z_arr = sample\n",
    "N = Z_arr.shape[0]\n",
    "Z_ind = np.argsort(Z_arr)\n",
    "\n",
    "# list variable\n",
    "l_s = np.arange(2, (N+1)-2)  # from 2 to N-2\n",
    "l_n_1 = l_s\n",
    "l_n_2 = N - l_s\n",
    "l_pi_1 = list_s/N\n",
    "l_pi_2 = (N-list_s)/N\n",
    "\n",
    "# regular functions\n",
    "def f_var_1(s, Z_arr=Z_arr, Z_ind=Z_ind):\n",
    "    Curr_1 = Z_arr[Z_ind[:s]]\n",
    "    return np.var(Curr_1)\n",
    "\n",
    "def f_var_2(s, Z_arr=Z_arr, Z_ind=Z_ind):\n",
    "    Curr_2 = Z_arr[Z_ind[s:]]\n",
    "    return np.var(Curr_2)\n",
    "\n",
    "def f_var_comb(s, Z_arr=Z_arr, Z_ind=Z_ind):\n",
    "    # pi_1 * var_1 + pi_2 * var_2\n",
    "    return (s/N)*f_var_1(s, Z_arr, Z_ind)+ ((N-s)/N)*f_var_2(s, Z_arr, Z_ind)\n",
    "\n",
    "def f_splitPoint(s, Z_arr=Z_arr, Z_ind=Z_ind):\n",
    "    # (max(Curr_1) + min(Curr_2))/2\n",
    "    return (Z_arr[Z_ind[s-1]] + Z_arr[Z_ind[s]])/2\n",
    "\n",
    "# vetorize functions \n",
    "# Input: array  |  Output: array \n",
    "vf_var_1 = np.vectorize(f_var_1)\n",
    "vf_var_2 = np.vectorize(f_var_2)\n",
    "vf_var_comb = np.vectorize(f_var_comb)\n",
    "vf_splitPoint = np.vectorize(f_splitPoint)\n",
    "\n",
    "# list variable 2\n",
    "l_var_1 = vf_var_1(l_s)\n",
    "l_var_2 = vf_var_2(l_s)\n",
    "l_var_comb = vf_var_comb(l_s)\n",
    "l_splitPoint = vf_splitPoint(l_s)\n",
    "\n",
    "l_BIC_diff_var = -2*(l_n_1*np.log(l_pi_1)\n",
    "                   - l_n_1/2*np.log(2*np.pi*l_var_1)\n",
    "                   + l_n_2*np.log(l_pi_2)\n",
    "                   - l_n_2/2*np.log(2*np.pi*l_var_2))\n",
    "l_BIC_same_var = -2*(l_n_1*np.log(l_pi_1)\n",
    "                   - l_n_1/2*np.log(2*np.pi*l_var_comb)\n",
    "                   + l_n_2*np.log(l_pi_2)\n",
    "                   - l_n_2/2*np.log(2*np.pi*l_var_comb))\n",
    "\n",
    "min_BIC_diff_var = min(l_BIC_diff_var)\n",
    "min_BIC_same_var = min(l_BIC_same_var)\n",
    "\n",
    "if min_BIC_diff_var <= min_BIC_same_var:\n",
    "    BIC_curr2 = min_BIC_diff_var\n",
    "    splitPoint2 = l_splitPoint[np.where(l_BIC_diff_var == min_BIC_diff_var)]\n",
    "else:\n",
    "    BIC_curr2 = min_BIC_same_var\n",
    "    splitPoint2 = l_splitPoint[np.where(l_BIC_same_var == min_BIC_diff_var)]\n",
    "\n",
    "print(BIC_curr2, splitPoint2)\n",
    "\n",
    "# Display-----------------------------------\n",
    "# t_start = time.time()\n",
    "# fun = FastBIC2(sample)\n",
    "# t_run = time.time() - t_start\n",
    "# print(fun)\n",
    "# print('t: ', t_run)"
   ]
  },
  {
   "cell_type": "code",
   "execution_count": null,
   "metadata": {},
   "outputs": [],
   "source": [
    "# def outer(num1):\n",
    "#     def inner_increment(num1):  # Hidden from outer code\n",
    "#         return num1 + 1\n",
    "#     num2 = inner_increment(num1)\n",
    "#     print(num1, num2)\n",
    "\n",
    "# # inner_increment(10)\n",
    "# outer(10)"
   ]
  },
  {
   "cell_type": "code",
   "execution_count": null,
   "metadata": {},
   "outputs": [],
   "source": [
    "# x = np.array([1., -1., -2., 3])\n",
    "# print(x)\n",
    "# y = x[x < 0] \n",
    "# print(y)"
   ]
  }
 ],
 "metadata": {
  "kernelspec": {
   "display_name": "Python 3",
   "language": "python",
   "name": "python3"
  },
  "language_info": {
   "codemirror_mode": {
    "name": "ipython",
    "version": 3
   },
   "file_extension": ".py",
   "mimetype": "text/x-python",
   "name": "python",
   "nbconvert_exporter": "python",
   "pygments_lexer": "ipython3",
   "version": "3.7.3"
  }
 },
 "nbformat": 4,
 "nbformat_minor": 2
}
