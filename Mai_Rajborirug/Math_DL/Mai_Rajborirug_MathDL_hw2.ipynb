{
  "nbformat": 4,
  "nbformat_minor": 0,
  "metadata": {
    "colab": {
      "name": "Mai_Rajborirug_MathDL_hw2.ipynb",
      "provenance": []
    },
    "kernelspec": {
      "name": "python3",
      "display_name": "Python 3"
    }
  },
  "cells": [
    {
      "cell_type": "code",
      "metadata": {
        "id": "Myylig1qCKDT",
        "colab_type": "code",
        "colab": {
          "base_uri": "https://localhost:8080/",
          "height": 207
        },
        "outputId": "d10ed1fd-71f9-43c4-f19a-e42d1e6ce012"
      },
      "source": [
        "# HW 2a\n",
        "from __future__ import print_function\n",
        "import torch\n",
        "import numpy as np\n",
        "import math\n",
        "import matplotlib.pyplot as plt\n",
        "\n",
        "import torch.utils.data as data\n",
        "import torch.nn as nn\n",
        "import torch.nn.functional as F\n",
        "import torch.optim as optim\n",
        "\n",
        "# set the dimension\n",
        "n  = 10; r0 = 60; D = 150;\n",
        "n_input=500; m=50 # n_input = 500 so that there are 10 mini-batches\n",
        "\n",
        "class Dataset():\n",
        "    def __init__(self, n, r0, D):\n",
        "        # create U, V optimum from n, r0, D\n",
        "        self.D    = D\n",
        "        self.U    = torch.normal(mean=torch.zeros([n,r0]), std=torch.ones([n,r0])/np.sqrt(r0))\n",
        "        self.V_T  = torch.normal(mean=torch.zeros([r0, D]), std=torch.ones([D,r0])/np.sqrt(D))\n",
        "            ## `torch.normal(mean = tensor1, std = tensor1)`, same size\n",
        "    def generate_samples(self, n_input, m):\n",
        "        # create x, y from U,V optimum\n",
        "        x  = torch.randn(self.D, n_input)\n",
        "        y  = torch.mm(self.U, F.relu(torch.mm(self.V_T,x))) \n",
        "            ## `torch.mm(tensor1_matrix, tensor2_matrix)`: matrix multiplication\n",
        "            ## `_F.relu(tensor)`: element-wise ReLU activation\n",
        "        \n",
        "        samples_pre = data.TensorDataset(x.T,y.T)\n",
        "            ## `_data.TensorDataset(*tensors)`: data wrapping tensors with same 1st dimension\n",
        "            ### __getitem__: return {Set | Set_i =turple(tensor_x[i] ~D,tensor_y[i] ~ r0), i in range #row x,y\n",
        "            ### __len__: return self.tensors[0].size(0) # of 1st dim/row in x\n",
        "        samples = data.DataLoader(samples_pre, batch_size=m, shuffle=True,num_workers=3)\n",
        "            ## `data.DataLoader()` shuffle x,y into batch\n",
        "            ### from x.T(500x150) -> ten batch_x.T(50x150), y.T(500x10) -> ten batch_y(50x10)\n",
        "        return samples\n",
        "dataset = Dataset(n, r0, D)  # generate U, V_T optimum\n",
        "ds = dataset.generate_samples(n_input, m) # \n",
        "print('HW 2a')\n",
        "for step, (batch_x, batch_y) in enumerate(ds):\n",
        "    l2 = torch.mean(batch_y ** 2)\n",
        "    print('batch #', step, ' : L2 norm ', l2.item())\n",
        "\n"
      ],
      "execution_count": 2,
      "outputs": [
        {
          "output_type": "stream",
          "text": [
            "HW 2a\n",
            "batch # 0  : L2 norm  0.5830911993980408\n",
            "batch # 1  : L2 norm  0.598063588142395\n",
            "batch # 2  : L2 norm  0.5924168229103088\n",
            "batch # 3  : L2 norm  0.619966447353363\n",
            "batch # 4  : L2 norm  0.6507449150085449\n",
            "batch # 5  : L2 norm  0.5360133051872253\n",
            "batch # 6  : L2 norm  0.5668997764587402\n",
            "batch # 7  : L2 norm  0.6252177357673645\n",
            "batch # 8  : L2 norm  0.6155403256416321\n",
            "batch # 9  : L2 norm  0.6032831072807312\n"
          ],
          "name": "stdout"
        }
      ]
    },
    {
      "cell_type": "code",
      "metadata": {
        "id": "q6ztGNUUCa1h",
        "colab_type": "code",
        "colab": {
          "base_uri": "https://localhost:8080/",
          "height": 1000
        },
        "outputId": "f31c911b-e67e-4609-9258-f603b2ba7a0c"
      },
      "source": [
        "#HW 2b\n",
        "class Net(nn.Module): \n",
        "    def __init__(self, D, r, n):\n",
        "        super(Net, self).__init__()\n",
        "        self.V_T = nn.Linear(D, r, bias=False) # bias = False -> y= Ax, # bias = True -> y= Ax+b \n",
        "        self.U = nn.Linear(r, n, bias=False)\n",
        "    def forward(self, x):\n",
        "        y = self.U(F.relu(self.V_T(x)))\n",
        "        return y # predicted y\n",
        "\n",
        "def train(model, ds, epochs, lr, decay_rate=0.5, decay_step=50):\n",
        "    # weight_decay = decrease learning rate = 1/2, every 50 epochs\n",
        "    # lr = initial learning rate\n",
        "    optimizer = optim.SGD(model.parameters(), lr=lr)  # ~ updating U V\n",
        "    scheduler = optim.lr_scheduler.StepLR(optimizer, step_size=decay_step, gamma=decay_rate) # ~ update step size\n",
        "    criterion = nn.MSELoss()  # square L2 norm\n",
        "    \n",
        "    model.train()\n",
        "    for epoch in range(epochs):\n",
        "        losses = []\n",
        "        for step, (batch_x, batch_y) in enumerate(ds):\n",
        "            optimizer.zero_grad()\n",
        "            predict_y = model(batch_x)\n",
        "            loss = 0.5 * criterion(predict_y, batch_y)  # calculate loss function = 1/2 *L_2^2\n",
        "            losses.append(loss.item())\n",
        "            loss.backward()  # use loss function in 'optimizer'\n",
        "            optimizer.step() # update U, V_T\n",
        "            \n",
        "        scheduler.step() # update step size each epochs\n",
        "        print( 'epoch: ',epoch, \", loss:\", np.mean(np.array(losses)))\n",
        "        \n",
        "model = Net(D, r0, n)\n",
        "ds = dataset.generate_samples(n_input=10000, m=50)\n",
        "print(\"HW 2b\")\n",
        "train(model, ds, epochs=100, lr=0.01) # try 100 epoch"
      ],
      "execution_count": 3,
      "outputs": [
        {
          "output_type": "stream",
          "text": [
            "HW 2b\n",
            "epoch:  0 , loss: 0.24875651277601718\n",
            "epoch:  1 , loss: 0.19361904814839362\n",
            "epoch:  2 , loss: 0.17442983612418175\n",
            "epoch:  3 , loss: 0.16481267981231212\n",
            "epoch:  4 , loss: 0.15798883780837059\n",
            "epoch:  5 , loss: 0.15220399178564548\n",
            "epoch:  6 , loss: 0.14696343079209329\n",
            "epoch:  7 , loss: 0.14210246790200473\n",
            "epoch:  8 , loss: 0.1375455652177334\n",
            "epoch:  9 , loss: 0.13324234664440154\n",
            "epoch:  10 , loss: 0.12915793500840664\n",
            "epoch:  11 , loss: 0.12525852154940367\n",
            "epoch:  12 , loss: 0.12152826953679323\n",
            "epoch:  13 , loss: 0.11795440215617418\n",
            "epoch:  14 , loss: 0.11452391676604748\n",
            "epoch:  15 , loss: 0.11122560061514378\n",
            "epoch:  16 , loss: 0.1080492739751935\n",
            "epoch:  17 , loss: 0.10499215185642242\n",
            "epoch:  18 , loss: 0.1020548825711012\n",
            "epoch:  19 , loss: 0.09923289224505424\n",
            "epoch:  20 , loss: 0.0965223378315568\n",
            "epoch:  21 , loss: 0.0939265539124608\n",
            "epoch:  22 , loss: 0.09144152320921421\n",
            "epoch:  23 , loss: 0.08906767304986715\n",
            "epoch:  24 , loss: 0.08680458340793848\n",
            "epoch:  25 , loss: 0.08465333878993989\n",
            "epoch:  26 , loss: 0.08260920513421297\n",
            "epoch:  27 , loss: 0.08067199666053057\n",
            "epoch:  28 , loss: 0.07884193174540996\n",
            "epoch:  29 , loss: 0.07711136108264327\n",
            "epoch:  30 , loss: 0.07547920962795615\n",
            "epoch:  31 , loss: 0.07394436175003648\n",
            "epoch:  32 , loss: 0.07250109823420643\n",
            "epoch:  33 , loss: 0.07114527752622962\n",
            "epoch:  34 , loss: 0.06987056069076061\n",
            "epoch:  35 , loss: 0.06867449583485723\n",
            "epoch:  36 , loss: 0.06755165772512556\n",
            "epoch:  37 , loss: 0.06649877512827515\n",
            "epoch:  38 , loss: 0.06551086746156215\n",
            "epoch:  39 , loss: 0.06458354076370597\n",
            "epoch:  40 , loss: 0.06371216239407658\n",
            "epoch:  41 , loss: 0.06289484599605202\n",
            "epoch:  42 , loss: 0.06212734965607524\n",
            "epoch:  43 , loss: 0.061404227688908575\n",
            "epoch:  44 , loss: 0.06072359474375844\n",
            "epoch:  45 , loss: 0.060080468170344827\n",
            "epoch:  46 , loss: 0.05947379993274808\n",
            "epoch:  47 , loss: 0.05889957262203097\n",
            "epoch:  48 , loss: 0.058356282860040666\n",
            "epoch:  49 , loss: 0.05784212091937661\n",
            "epoch:  50 , loss: 0.05743450267240405\n",
            "epoch:  51 , loss: 0.057197122722864153\n",
            "epoch:  52 , loss: 0.05696610175073147\n",
            "epoch:  53 , loss: 0.0567408106289804\n",
            "epoch:  54 , loss: 0.0565209661051631\n",
            "epoch:  55 , loss: 0.05630612602457404\n",
            "epoch:  56 , loss: 0.056096653155982494\n",
            "epoch:  57 , loss: 0.05589204972609878\n",
            "epoch:  58 , loss: 0.055692084562033416\n",
            "epoch:  59 , loss: 0.055497231632471083\n",
            "epoch:  60 , loss: 0.055306445024907586\n",
            "epoch:  61 , loss: 0.05512037040665746\n",
            "epoch:  62 , loss: 0.0549385935626924\n",
            "epoch:  63 , loss: 0.05476084500551224\n",
            "epoch:  64 , loss: 0.054587075971066955\n",
            "epoch:  65 , loss: 0.05441711461171508\n",
            "epoch:  66 , loss: 0.054250720478594305\n",
            "epoch:  67 , loss: 0.05408835040405393\n",
            "epoch:  68 , loss: 0.05392931655049324\n",
            "epoch:  69 , loss: 0.05377359513193369\n",
            "epoch:  70 , loss: 0.05362102545797825\n",
            "epoch:  71 , loss: 0.053471443336457015\n",
            "epoch:  72 , loss: 0.053325086664408446\n",
            "epoch:  73 , loss: 0.05318150065839291\n",
            "epoch:  74 , loss: 0.053040585312992335\n",
            "epoch:  75 , loss: 0.05290223859250545\n",
            "epoch:  76 , loss: 0.052766751945018765\n",
            "epoch:  77 , loss: 0.052633817065507175\n",
            "epoch:  78 , loss: 0.0525032183341682\n",
            "epoch:  79 , loss: 0.05237486245110631\n",
            "epoch:  80 , loss: 0.052248810138553384\n",
            "epoch:  81 , loss: 0.05212488871067762\n",
            "epoch:  82 , loss: 0.05200317036360502\n",
            "epoch:  83 , loss: 0.051883351746946575\n",
            "epoch:  84 , loss: 0.05176512651145458\n",
            "epoch:  85 , loss: 0.05164934441447258\n",
            "epoch:  86 , loss: 0.05153516475111246\n",
            "epoch:  87 , loss: 0.0514227332174778\n",
            "epoch:  88 , loss: 0.051312087886035446\n",
            "epoch:  89 , loss: 0.051203351505100726\n",
            "epoch:  90 , loss: 0.05109565105289221\n",
            "epoch:  91 , loss: 0.05098990121856332\n",
            "epoch:  92 , loss: 0.050885167326778176\n",
            "epoch:  93 , loss: 0.05078227294608951\n",
            "epoch:  94 , loss: 0.05068094279617071\n",
            "epoch:  95 , loss: 0.050580615289509294\n",
            "epoch:  96 , loss: 0.05048180460929871\n",
            "epoch:  97 , loss: 0.05038449838757515\n",
            "epoch:  98 , loss: 0.050288640111684796\n",
            "epoch:  99 , loss: 0.050194043293595315\n"
          ],
          "name": "stdout"
        }
      ]
    },
    {
      "cell_type": "code",
      "metadata": {
        "id": "ykLK3NHSCweK",
        "colab_type": "code",
        "colab": {
          "base_uri": "https://localhost:8080/",
          "height": 296
        },
        "outputId": "f22808f6-4a0b-4b0e-f3d9-fbc32a0c7b76"
      },
      "source": [
        "# Hw 2c\n",
        "r =120\n",
        "r0=60\n",
        "dataset=Dataset(n=10, r0=r0, D=150) \n",
        "ds = dataset.generate_samples(n_input=10000, m=20) # using dataset (U,V optimum) to generate x,y\n",
        "model = Net(D=150, r=r, n=10) # model U,V\n",
        "\n",
        "eta = np.array([0.0001,0.001,0.01,0.1]) # learning rate\n",
        "epochs =20\n",
        "decay_rate = 0.5\n",
        "decay_step = 50\n",
        "    \n",
        "fig = plt.figure()\n",
        "ax = plt.axes()\n",
        "plotx = np.linspace(0,epochs-1,epochs)\n",
        "ax.set_xlabel('epochs')\n",
        "ax.set_ylabel('Error')\n",
        "\n",
        "print('HW 2c')\n",
        "for i,lr in enumerate(eta):\n",
        "    optimizer = optim.SGD(model.parameters(), lr=lr)  # ~ updating U V\n",
        "    scheduler = optim.lr_scheduler.StepLR(optimizer, step_size=decay_step, gamma=decay_rate) # ~ update step size\n",
        "    criterion = nn.MSELoss()  # square L2 norm \n",
        "    model.train()\n",
        "    ploty=[]\n",
        "    for epoch in range(epochs):\n",
        "        losses = []\n",
        "        for step, (batch_x, batch_y) in enumerate(ds):\n",
        "            optimizer.zero_grad()\n",
        "            predict_y = model(batch_x)\n",
        "            loss = 0.5 * criterion(predict_y, batch_y)  # calculate loss function = 1/2 *L_2^2\n",
        "            losses.append(loss.item())\n",
        "            loss.backward()  # use loss function in 'optimizer'\n",
        "            optimizer.step() # update U, V_T\n",
        "        scheduler.step() # update step size each epochs\n",
        "        E_loss= np.mean(np.array(losses)) # Expected loss\n",
        "        ploty= np.append(ploty,E_loss)\n",
        "    ax.plot(plotx,ploty, label='eta '+str(lr))\n",
        "ax.legend();\n",
        "plt.show()"
      ],
      "execution_count": 8,
      "outputs": [
        {
          "output_type": "stream",
          "text": [
            "HW 2c\n"
          ],
          "name": "stdout"
        },
        {
          "output_type": "display_data",
          "data": {
            "image/png": "[encoded data removed]",
            "text/plain": [
              "<Figure size 432x288 with 1 Axes>"
            ]
          },
          "metadata": {
            "tags": []
          }
        }
      ]
    },
    {
      "cell_type": "code",
      "metadata": {
        "id": "Tm1UhvMYDcah",
        "colab_type": "code",
        "colab": {
          "base_uri": "https://localhost:8080/",
          "height": 296
        },
        "outputId": "f09ba81b-df6f-4b29-8a11-4d5865683452"
      },
      "source": [
        "# Hw 2d\n",
        "\n",
        "r0= 60\n",
        "r_r0=np.array([1,2,4,8])\n",
        "r= r_r0*r\n",
        "lr = 0.1 # best one\n",
        "epochs =200\n",
        "decay_rate = 0.5\n",
        "decay_step = 50\n",
        "    \n",
        "fig = plt.figure()\n",
        "ax = plt.axes()\n",
        "plotx = np.linspace(0,epochs-1,epochs)\n",
        "ax.set_xlabel('Epoch')\n",
        "ax.set_ylabel('Error')\n",
        "\n",
        "print('HW 2d')\n",
        "\n",
        "for i,r_i in enumerate(r):\n",
        "    model = Net(D=150, r=r_i, n=10) \n",
        "    optimizer = optim.SGD(model.parameters(), lr=lr)  # ~ updating U V\n",
        "    scheduler = optim.lr_scheduler.StepLR(optimizer, step_size=decay_step, gamma=decay_rate) # ~ update step size\n",
        "    criterion = nn.MSELoss()  # square L2 norm \n",
        "    model.train()\n",
        "    ploty=[]\n",
        "    for epoch in range(epochs):\n",
        "        losses = []\n",
        "        for step, (batch_x, batch_y) in enumerate(ds):\n",
        "            optimizer.zero_grad()\n",
        "            predict_y = model(batch_x)\n",
        "            loss = 0.5 * criterion(predict_y, batch_y)  # calculate loss function = 1/2 *L_2^2\n",
        "            losses.append(loss.item())\n",
        "            loss.backward()  # use loss function in 'optimizer'\n",
        "            optimizer.step() # update U, V_T\n",
        "        scheduler.step() # update step size each epochs\n",
        "        E_loss= np.mean(np.array(losses)) # Expected loss\n",
        "        ploty= np.append(ploty,E_loss)\n",
        "    ax.plot(plotx,ploty, label='r/r0 '+str(r_r0[i]))\n",
        "ax.legend();\n",
        "plt.show()"
      ],
      "execution_count": 9,
      "outputs": [
        {
          "output_type": "stream",
          "text": [
            "HW 2d\n"
          ],
          "name": "stdout"
        },
        {
          "output_type": "display_data",
          "data": {
            "image/png": "[encoded data removed]",
            "text/plain": [
              "<Figure size 432x288 with 1 Axes>"
            ]
          },
          "metadata": {
            "tags": []
          }
        }
      ]
    },
    {
      "cell_type": "code",
      "metadata": {
        "id": "V4C11sATRp_T",
        "colab_type": "code",
        "colab": {
          "base_uri": "https://localhost:8080/",
          "height": 130
        },
        "outputId": "5ce9bcef-1792-4d74-fa2c-4b0146dbaa66"
      },
      "source": [
        "# Hw 2e\n",
        "\n",
        "# The result from (2d) is satifying. Every setup 'r/r0' eventually has the error \n",
        "# clos to 0. We notice that in Epoch around 0-25 that r/r0 has the smallest error.\n",
        "# This result agrees with the theory that the over-parameterization levels will \n",
        "# overfit the training set. \n",
        "\n"
      ],
      "execution_count": 11,
      "outputs": [
        {
          "output_type": "error",
          "ename": "SyntaxError",
          "evalue": "ignored",
          "traceback": [
            "\u001b[0;36m  File \u001b[0;32m\"<ipython-input-11-8207fa06ee12>\"\u001b[0;36m, line \u001b[0;32m1\u001b[0m\n\u001b[0;31m    ```\u001b[0m\n\u001b[0m    ^\u001b[0m\n\u001b[0;31mSyntaxError\u001b[0m\u001b[0;31m:\u001b[0m invalid syntax\n"
          ]
        }
      ]
    },
    {
      "cell_type": "code",
      "metadata": {
        "id": "3X3bG3RCSEba",
        "colab_type": "code",
        "colab": {}
      },
      "source": [
        ""
      ],
      "execution_count": 0,
      "outputs": []
    }
  ]
}