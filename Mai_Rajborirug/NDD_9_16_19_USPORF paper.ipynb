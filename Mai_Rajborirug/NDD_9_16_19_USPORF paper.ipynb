{
 "cells": [
  {
   "cell_type": "markdown",
   "metadata": {},
   "source": [
    "#  Paper Summary\n",
    "\n",
    "## Geodesic Learning via Unsupervised Decision Forests\n",
    "### _Jova lab, 2019_\n",
    "\n",
    "### Term\n",
    "1. Geodesic distance:\n",
    "    * shortest path between two in a Riemannian manifold\n",
    "* Topological Space: have 4 conditions\n",
    "    * The empty set $\\emptyset \\in T$ \n",
    "    * $X \\in T$\n",
    "    * intersection of number set in $T$ is also in $T$\n",
    "    * union of an arbitrary number of sets in $T$ is also in $T$ \n",
    "* Manifold:\n",
    "    * any object that look flat on a small scale i.e. a coffee cup, the earth\n",
    "    * smooth manifold (differentiable manifolds)\n",
    "    * can be connect or not connect\n",
    "* (smooth) $(M,g)$ Riemannian manifold:\n",
    "    * metric d(x,y) = length of the shortest curve(geodesic) between $x$ and $y$\n",
    "* kernel $\\mathcal{K}$ regression\n",
    "    * For any function $f:A\\rightarrow B$, $\\mathcal{K}$ is defined by\n",
    "    * $\\mathcal{K}(f) = \\{x:x\\in A \\text{such that} f(x)=0 $\n",
    "* recursive\n",
    "    * self-calling function\n",
    "* Isomap\n",
    "    * nonlinear dimemsionality reduction method:\n",
    "    * $K=-\\frac{1}{2}HD^2 H, where D^2 = D^2_{ij}$ is the elementwise square if the geodesic distance matrix $D=[D_{ij}]$, $H$ is the centering matrix\n",
    "    * $H=I_n-\\frac{1}{N}e_N e_N^T$, where $e_N=[1 .. 1]^T\\in \\mathbb{R}^N$\n",
    "    \n",
    "### 0. Summary\n",
    "* Manifold learning algo seek to learn a manifold that preserves geodesic distance\n",
    "* develop an unsupervised RF (URerF) to __learn geodesic distances in linear and nonlinear manifolds w/ noise__\n",
    "* Empirical results on simulated and real data demonstrate that URerF can estimate geodesic distance on a read high-dimensional dataset\n",
    "\n",
    "### 1. Introduction\n",
    "* The nearest neighbor algorithm = top algorithm -> good unsupervised machine learning\n",
    "* 'corpus' $\\{ (x_n,y_n) \\}^N_{n=1} \\rightarrow \\hat{y}=\\frac{1}{N}\\sum^N_{n=1} y_n \\times \\mathcal{K}(x,x_n) $ \n",
    "* Geodesic learning is crucial in state-of-art ML algorithms\n",
    "* Decision Tree -> supervised learning (mostly) -> drawback with __high dimemsional noise__\n",
    "* propose Unsupervised Randomer Forest (URerF)\n",
    "    * not compute geodesic distances btw all pair of points\n",
    "    * instead, recursively clustering data in sparse linear subspace\n",
    "\n",
    "### 2. Related Work\n",
    "* Euclidean distance fails to provide good estimates of distances on the manifold. Also computing pairdistance is $\\mathcal{O}\n",
    "(n^2)$, which is costly.\n",
    "\n",
    "### 3. Unsupervised Randomer Forest\n",
    "each tree $\\{h(\\mathbf{x},\\theta_t) \\},t\\in \\{1,2,\\dots ,T \\}$ has parameters $\\theta_t$ that characterized the tree structure. The model use sparse linear combinations of features to each tree \n",
    "\n",
    "\n",
    "\n",
    "\n"
   ]
  },
  {
   "cell_type": "code",
   "execution_count": null,
   "metadata": {},
   "outputs": [],
   "source": []
  }
 ],
 "metadata": {
  "kernelspec": {
   "display_name": "Python 3",
   "language": "python",
   "name": "python3"
  },
  "language_info": {
   "codemirror_mode": {
    "name": "ipython",
    "version": 3
   },
   "file_extension": ".py",
   "mimetype": "text/x-python",
   "name": "python",
   "nbconvert_exporter": "python",
   "pygments_lexer": "ipython3",
   "version": "3.7.3"
  }
 },
 "nbformat": 4,
 "nbformat_minor": 2
}
